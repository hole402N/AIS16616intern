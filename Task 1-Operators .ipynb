{
 "cells": [
  {
   "cell_type": "markdown",
   "id": "a64124f0-a18a-4b9e-8fd7-22816066d7d1",
   "metadata": {},
   "source": [
    "# Operators in Python"
   ]
  },
  {
   "cell_type": "raw",
   "id": "0e9f904f-9cbe-4930-8009-54df2755d551",
   "metadata": {},
   "source": [
    "1.Arithmatic Operator(+,-,*,/,**(power),%(modulus))\n"
   ]
  },
  {
   "cell_type": "code",
   "execution_count": 6,
   "id": "93a36696-09ae-419c-b051-bfed70a39391",
   "metadata": {},
   "outputs": [
    {
     "data": {
      "text/plain": [
       "10.0"
      ]
     },
     "execution_count": 6,
     "metadata": {},
     "output_type": "execute_result"
    }
   ],
   "source": [
    "20/2\n"
   ]
  },
  {
   "cell_type": "code",
   "execution_count": 7,
   "id": "fc71d408-e248-4314-be40-c58da1c5476f",
   "metadata": {},
   "outputs": [
    {
     "data": {
      "text/plain": [
       "185193"
      ]
     },
     "execution_count": 7,
     "metadata": {},
     "output_type": "execute_result"
    }
   ],
   "source": [
    "57**3"
   ]
  },
  {
   "cell_type": "raw",
   "id": "816bd97b-433d-441a-b68e-d376c9a0dedb",
   "metadata": {},
   "source": [
    "2.Assingment Operator(+=,-=,*=)"
   ]
  },
  {
   "cell_type": "code",
   "execution_count": 8,
   "id": "e98a355e-3313-4479-841f-499eefc4d849",
   "metadata": {},
   "outputs": [
    {
     "name": "stdout",
     "output_type": "stream",
     "text": [
      "59\n"
     ]
    }
   ],
   "source": [
    "x=68\n",
    "x-=9\n",
    "print(x)"
   ]
  },
  {
   "cell_type": "code",
   "execution_count": 9,
   "id": "ce97a6d5-5823-4f1b-96cd-4120beef768d",
   "metadata": {},
   "outputs": [
    {
     "name": "stdout",
     "output_type": "stream",
     "text": [
      "80\n"
     ]
    }
   ],
   "source": [
    "y=10\n",
    "y*=8\n",
    "print(y)"
   ]
  },
  {
   "cell_type": "raw",
   "id": "36d66e12-b7f8-4d96-9fdd-ae52684ad4b3",
   "metadata": {},
   "source": [
    "3. Comparision Operators(<,>,==,!=,<=,>=)"
   ]
  },
  {
   "cell_type": "code",
   "execution_count": 10,
   "id": "d096c181-64fa-4dc2-aad4-d77365cfeb10",
   "metadata": {},
   "outputs": [
    {
     "data": {
      "text/plain": [
       "True"
      ]
     },
     "execution_count": 10,
     "metadata": {},
     "output_type": "execute_result"
    }
   ],
   "source": [
    "9>=7"
   ]
  },
  {
   "cell_type": "code",
   "execution_count": 11,
   "id": "a7c457af-f310-482b-964c-d297872218d3",
   "metadata": {},
   "outputs": [
    {
     "data": {
      "text/plain": [
       "False"
      ]
     },
     "execution_count": 11,
     "metadata": {},
     "output_type": "execute_result"
    }
   ],
   "source": [
    "8<=3"
   ]
  },
  {
   "cell_type": "code",
   "execution_count": 12,
   "id": "d2420a7a-0731-4504-8182-49178cfb66a3",
   "metadata": {},
   "outputs": [
    {
     "data": {
      "text/plain": [
       "True"
      ]
     },
     "execution_count": 12,
     "metadata": {},
     "output_type": "execute_result"
    }
   ],
   "source": [
    "3!=9"
   ]
  },
  {
   "cell_type": "raw",
   "id": "c350cf81-a334-458d-ae57-a47d0367532a",
   "metadata": {},
   "source": [
    "4.Logical Operators(And,Or,Not)"
   ]
  },
  {
   "cell_type": "code",
   "execution_count": 13,
   "id": "f0ba56ec-40db-443b-ae86-79ea6b21324c",
   "metadata": {},
   "outputs": [
    {
     "data": {
      "text/plain": [
       "False"
      ]
     },
     "execution_count": 13,
     "metadata": {},
     "output_type": "execute_result"
    }
   ],
   "source": [
    "x=8\n",
    "x<6 and x>4"
   ]
  },
  {
   "cell_type": "code",
   "execution_count": 14,
   "id": "12a27680-842b-4fda-b6a8-e5a5a98fa88a",
   "metadata": {},
   "outputs": [
    {
     "data": {
      "text/plain": [
       "True"
      ]
     },
     "execution_count": 14,
     "metadata": {},
     "output_type": "execute_result"
    }
   ],
   "source": [
    "x=4\n",
    "x>3 or x<5"
   ]
  },
  {
   "cell_type": "code",
   "execution_count": 15,
   "id": "6f6c7bfc-fe7d-4f0b-83c1-cf2a91eb8ff6",
   "metadata": {},
   "outputs": [
    {
     "data": {
      "text/plain": [
       "False"
      ]
     },
     "execution_count": 15,
     "metadata": {},
     "output_type": "execute_result"
    }
   ],
   "source": [
    "x=4\n",
    "not(x<5 and x>0)"
   ]
  },
  {
   "cell_type": "raw",
   "id": "3d3455ab-35bf-41b6-a884-3a79a0b18586",
   "metadata": {},
   "source": [
    "5.Identity Operators(is,is not) "
   ]
  },
  {
   "cell_type": "code",
   "execution_count": 16,
   "id": "fd530017-b9f6-4140-bec3-1dbcbdeb971b",
   "metadata": {},
   "outputs": [
    {
     "name": "stderr",
     "output_type": "stream",
     "text": [
      "<>:2: SyntaxWarning: \"is\" with a literal. Did you mean \"==\"?\n",
      "<>:2: SyntaxWarning: \"is\" with a literal. Did you mean \"==\"?\n",
      "C:\\Users\\Nisha\\AppData\\Local\\Temp\\ipykernel_5748\\601857308.py:2: SyntaxWarning: \"is\" with a literal. Did you mean \"==\"?\n",
      "  x is 56\n"
     ]
    },
    {
     "data": {
      "text/plain": [
       "False"
      ]
     },
     "execution_count": 16,
     "metadata": {},
     "output_type": "execute_result"
    }
   ],
   "source": [
    "x=60\n",
    "x is 56"
   ]
  },
  {
   "cell_type": "code",
   "execution_count": 17,
   "id": "63789029-1914-4268-b0dd-777223310854",
   "metadata": {},
   "outputs": [
    {
     "name": "stderr",
     "output_type": "stream",
     "text": [
      "<>:2: SyntaxWarning: \"is not\" with a literal. Did you mean \"!=\"?\n",
      "<>:2: SyntaxWarning: \"is not\" with a literal. Did you mean \"!=\"?\n",
      "C:\\Users\\Nisha\\AppData\\Local\\Temp\\ipykernel_5748\\1163021553.py:2: SyntaxWarning: \"is not\" with a literal. Did you mean \"!=\"?\n",
      "  x is not 34\n"
     ]
    },
    {
     "data": {
      "text/plain": [
       "True"
      ]
     },
     "execution_count": 17,
     "metadata": {},
     "output_type": "execute_result"
    }
   ],
   "source": [
    "x=78\n",
    "x is not 34"
   ]
  },
  {
   "cell_type": "raw",
   "id": "dc48fe67-b1f0-41b3-a235-689db48fb268",
   "metadata": {},
   "source": [
    "Menbership Operators(in,not in)"
   ]
  },
  {
   "cell_type": "code",
   "execution_count": 18,
   "id": "9648ac3b-4089-4afa-b2a7-ee74ad108860",
   "metadata": {},
   "outputs": [
    {
     "data": {
      "text/plain": [
       "False"
      ]
     },
     "execution_count": 18,
     "metadata": {},
     "output_type": "execute_result"
    }
   ],
   "source": [
    "x=(45,67,48,34,67,89,98,10)\n",
    "50 in x"
   ]
  },
  {
   "cell_type": "code",
   "execution_count": 19,
   "id": "d3a09465-f8af-42a2-a8e5-2bbc38be05bb",
   "metadata": {},
   "outputs": [
    {
     "data": {
      "text/plain": [
       "True"
      ]
     },
     "execution_count": 19,
     "metadata": {},
     "output_type": "execute_result"
    }
   ],
   "source": [
    "134 not in x"
   ]
  }
 ],
 "metadata": {
  "kernelspec": {
   "display_name": "Python 3 (ipykernel)",
   "language": "python",
   "name": "python3"
  },
  "language_info": {
   "codemirror_mode": {
    "name": "ipython",
    "version": 3
   },
   "file_extension": ".py",
   "mimetype": "text/x-python",
   "name": "python",
   "nbconvert_exporter": "python",
   "pygments_lexer": "ipython3",
   "version": "3.11.7"
  }
 },
 "nbformat": 4,
 "nbformat_minor": 5
}
