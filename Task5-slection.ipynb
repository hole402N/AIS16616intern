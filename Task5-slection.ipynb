{
 "cells": [
  {
   "cell_type": "code",
   "execution_count": 35,
   "id": "5f21fbd5-0918-4e11-88e1-3b5947a2c230",
   "metadata": {},
   "outputs": [
    {
     "name": "stdout",
     "output_type": "stream",
     "text": [
      "   A  B   C\n",
      "0  1  5   9\n",
      "1  2  6  10\n",
      "2  3  7  11\n",
      "3  4  8  12\n"
     ]
    }
   ],
   "source": [
    "# First, let's start by importing pandas and creating a sample DataFrame:\n",
    "import pandas as pd\n",
    "# Sample DataFrame\n",
    "data = {\n",
    "    'A': [1, 2, 3, 4],\n",
    "    'B': [5, 6, 7, 8],\n",
    "    'C': [9, 10, 11, 12]\n",
    "}\n",
    "df = pd.DataFrame(data)\n",
    "print(df)"
   ]
  },
  {
   "cell_type": "markdown",
   "id": "b43e02c2-2805-4011-976f-152b8a451475",
   "metadata": {},
   "source": [
    "# 1. Column and Row Selection"
   ]
  },
  {
   "cell_type": "raw",
   "id": "ceaf0709-93e2-4e8d-81be-1c11b8d93d32",
   "metadata": {},
   "source": [
    "# Column Selection\n",
    "   Using column names:"
   ]
  },
  {
   "cell_type": "code",
   "execution_count": 3,
   "id": "1e4ef6ad-0d19-4650-aea2-cf503ec8965d",
   "metadata": {},
   "outputs": [
    {
     "name": "stdout",
     "output_type": "stream",
     "text": [
      "0    1\n",
      "1    2\n",
      "2    3\n",
      "3    4\n",
      "Name: A, dtype: int64\n",
      "   A  B\n",
      "0  1  5\n",
      "1  2  6\n",
      "2  3  7\n",
      "3  4  8\n"
     ]
    }
   ],
   "source": [
    "# Single column\n",
    "print(df['A'])\n",
    "\n",
    "# Multiple columns\n",
    "print(df[['A', 'B']])"
   ]
  },
  {
   "cell_type": "raw",
   "id": "aadb151c-501c-47e2-890d-0217a2ec867b",
   "metadata": {},
   "source": [
    "# Using loc and iloc:"
   ]
  },
  {
   "cell_type": "code",
   "execution_count": 4,
   "id": "f3835b80-cafa-49bc-a3d8-83adfe61f7c8",
   "metadata": {},
   "outputs": [
    {
     "name": "stdout",
     "output_type": "stream",
     "text": [
      "0    1\n",
      "1    2\n",
      "2    3\n",
      "3    4\n",
      "Name: A, dtype: int64\n",
      "   A  B\n",
      "0  1  5\n",
      "1  2  6\n",
      "2  3  7\n",
      "3  4  8\n",
      "0    1\n",
      "1    2\n",
      "2    3\n",
      "3    4\n",
      "Name: A, dtype: int64\n",
      "   A  B\n",
      "0  1  5\n",
      "1  2  6\n",
      "2  3  7\n",
      "3  4  8\n"
     ]
    }
   ],
   "source": [
    "# Single column with loc\n",
    "print(df.loc[:, 'A'])\n",
    "\n",
    "# Multiple columns with loc\n",
    "print(df.loc[:, ['A', 'B']])\n",
    "\n",
    "# Single column with iloc\n",
    "print(df.iloc[:, 0])\n",
    "\n",
    "# Multiple columns with iloc\n",
    "print(df.iloc[:, [0, 1]])"
   ]
  },
  {
   "cell_type": "raw",
   "id": "3cfe8479-193f-4e83-b6a6-42f89b011586",
   "metadata": {},
   "source": [
    "# Row Selection\n",
    "  Using index:"
   ]
  },
  {
   "cell_type": "code",
   "execution_count": 6,
   "id": "2ea87c77-358f-4dc4-9a44-09765a0bf8b3",
   "metadata": {},
   "outputs": [
    {
     "name": "stdout",
     "output_type": "stream",
     "text": [
      "A    1\n",
      "B    5\n",
      "C    9\n",
      "Name: 0, dtype: int64\n",
      "   A  B   C\n",
      "0  1  5   9\n",
      "1  2  6  10\n",
      "2  3  7  11\n"
     ]
    }
   ],
   "source": [
    "# using loc\n",
    "# Single row\n",
    "print(df.loc[0])\n",
    "\n",
    "# Multiple rows\n",
    "print(df.loc[0:2])"
   ]
  },
  {
   "cell_type": "code",
   "execution_count": 7,
   "id": "b6fc4f0e-79c7-433f-b9fd-a1fdb22b12e6",
   "metadata": {},
   "outputs": [
    {
     "name": "stdout",
     "output_type": "stream",
     "text": [
      "A    1\n",
      "B    5\n",
      "C    9\n",
      "Name: 0, dtype: int64\n",
      "   A  B   C\n",
      "0  1  5   9\n",
      "1  2  6  10\n"
     ]
    }
   ],
   "source": [
    "# Using iloc:\n",
    "# Single row\n",
    "print(df.iloc[0])\n",
    "\n",
    "# Multiple rows\n",
    "print(df.iloc[0:2])"
   ]
  },
  {
   "cell_type": "markdown",
   "id": "37e38ea4-125a-434c-89ed-697150566371",
   "metadata": {},
   "source": [
    "# 2. Conditional Selection"
   ]
  },
  {
   "cell_type": "code",
   "execution_count": 8,
   "id": "96846fdd-190d-45d7-a562-a4054fdc8996",
   "metadata": {},
   "outputs": [
    {
     "name": "stdout",
     "output_type": "stream",
     "text": [
      "   A  B   C\n",
      "2  3  7  11\n",
      "3  4  8  12\n",
      "   A  B   C\n",
      "2  3  7  11\n"
     ]
    }
   ],
   "source": [
    "# Select rows where column 'A' is greater than 2\n",
    "print(df[df['A'] > 2])\n",
    "\n",
    "# Select rows where column 'A' is greater than 2 and column 'B' is less than 8\n",
    "print(df[(df['A'] > 2) & (df['B'] < 8)])"
   ]
  },
  {
   "cell_type": "markdown",
   "id": "3c4760c1-0db0-4f5b-beef-2310d606a47c",
   "metadata": {},
   "source": [
    "# 3. Adding, Deleting, and Updating Columns"
   ]
  },
  {
   "cell_type": "markdown",
   "id": "a666a155-e999-448c-8771-5e014c699d15",
   "metadata": {},
   "source": [
    "* Adding a Column"
   ]
  },
  {
   "cell_type": "code",
   "execution_count": 9,
   "id": "4f916024-c818-44e3-8a35-36670c2f093e",
   "metadata": {},
   "outputs": [
    {
     "name": "stdout",
     "output_type": "stream",
     "text": [
      "   A  B   C   D\n",
      "0  1  5   9   6\n",
      "1  2  6  10   8\n",
      "2  3  7  11  10\n",
      "3  4  8  12  12\n"
     ]
    }
   ],
   "source": [
    "# Adding a new column\n",
    "df['D'] = df['A'] + df['B']\n",
    "print(df)"
   ]
  },
  {
   "cell_type": "markdown",
   "id": "4b6e42f3-fe03-4edd-aea9-20a9700de53f",
   "metadata": {},
   "source": [
    "* Deleting a Column"
   ]
  },
  {
   "cell_type": "code",
   "execution_count": 11,
   "id": "c8675876-2de8-44c3-8ced-bb8578f0862d",
   "metadata": {},
   "outputs": [
    {
     "name": "stdout",
     "output_type": "stream",
     "text": [
      "   A  B   C\n",
      "0  1  5   9\n",
      "1  2  6  10\n",
      "2  3  7  11\n",
      "3  4  8  12\n"
     ]
    }
   ],
   "source": [
    "# Deleting a column\n",
    "df.drop('D', axis=1, inplace=True)\n",
    "print(df)"
   ]
  },
  {
   "cell_type": "markdown",
   "id": "b24226bb-fac3-4cca-9e1c-a54cf47fd6b0",
   "metadata": {},
   "source": [
    "* Updating a Column"
   ]
  },
  {
   "cell_type": "code",
   "execution_count": 12,
   "id": "454662d5-2ca1-4094-a170-ed6da16ff513",
   "metadata": {},
   "outputs": [
    {
     "name": "stdout",
     "output_type": "stream",
     "text": [
      "   A  B   C\n",
      "0  2  5   9\n",
      "1  4  6  10\n",
      "2  6  7  11\n",
      "3  8  8  12\n"
     ]
    }
   ],
   "source": [
    "# Updating a column\n",
    "df['A'] = df['A'] * 2\n",
    "print(df)"
   ]
  },
  {
   "cell_type": "markdown",
   "id": "023eec3f-3250-4e2e-bcc6-3cd0b322025f",
   "metadata": {},
   "source": [
    "# 4. Index Operations"
   ]
  },
  {
   "cell_type": "markdown",
   "id": "8b8ec4f0-1a0f-4016-a903-334407c39886",
   "metadata": {},
   "source": [
    "* Setting an Index"
   ]
  },
  {
   "cell_type": "code",
   "execution_count": 36,
   "id": "6056212b-a14c-4a8a-a9b7-e7bdcbe36a8d",
   "metadata": {},
   "outputs": [
    {
     "name": "stdout",
     "output_type": "stream",
     "text": [
      "\n",
      "DataFrame after setting index to column A:\n",
      "    B   C\n",
      "A       \n",
      "1  5   9\n",
      "2  6  10\n",
      "3  7  11\n",
      "4  8  12\n"
     ]
    }
   ],
   "source": [
    "# Setting a column as index\n",
    "df.set_index('A', inplace=True)\n",
    "print(\"\\nDataFrame after setting index to column A:\\n\", df)"
   ]
  },
  {
   "cell_type": "markdown",
   "id": "aad59615-d5fb-44af-acaa-40e4adfbfe24",
   "metadata": {},
   "source": [
    "* Resetting an Index"
   ]
  },
  {
   "cell_type": "code",
   "execution_count": 37,
   "id": "d99afe0d-a505-41d3-9479-591ac6ef00cb",
   "metadata": {},
   "outputs": [
    {
     "name": "stdout",
     "output_type": "stream",
     "text": [
      "\n",
      "DataFrame after resetting index:\n",
      "    A  B   C\n",
      "0  1  5   9\n",
      "1  2  6  10\n",
      "2  3  7  11\n",
      "3  4  8  12\n"
     ]
    }
   ],
   "source": [
    "# Resetting index to default integer index\n",
    "df.reset_index(inplace=True)\n",
    "print(\"\\nDataFrame after resetting index:\\n\", df)"
   ]
  },
  {
   "cell_type": "markdown",
   "id": "a02554b5-6907-4fa4-9c1e-a1bb90fa9f5d",
   "metadata": {},
   "source": [
    "* Removing an Index"
   ]
  },
  {
   "cell_type": "code",
   "execution_count": 38,
   "id": "da77a67b-0929-4f2e-931c-905d963b45ef",
   "metadata": {},
   "outputs": [
    {
     "name": "stdout",
     "output_type": "stream",
     "text": [
      "\n",
      "DataFrame after removing index name:\n",
      "    A  B   C\n",
      "0  1  5   9\n",
      "1  2  6  10\n",
      "2  3  7  11\n",
      "3  4  8  12\n"
     ]
    }
   ],
   "source": [
    "# Removing the index name\n",
    "df.index.name = None\n",
    "print(\"\\nDataFrame after removing index name:\\n\", df)"
   ]
  },
  {
   "cell_type": "markdown",
   "id": "07f317e4-660c-4752-9178-aa429e998dd4",
   "metadata": {},
   "source": [
    "# 5. Operations Between Columns"
   ]
  },
  {
   "cell_type": "markdown",
   "id": "e9859173-525f-4e44-be2f-cb018fdd7d77",
   "metadata": {},
   "source": [
    "* Addition, Subtraction, Multiplication, and Division"
   ]
  },
  {
   "cell_type": "code",
   "execution_count": 26,
   "id": "9364a7b7-9bfe-447a-8321-7947f308bcbd",
   "metadata": {},
   "outputs": [
    {
     "name": "stdout",
     "output_type": "stream",
     "text": [
      "   A  B   C   E\n",
      "0  1  5   9   6\n",
      "1  2  6  10   8\n",
      "2  3  7  11  10\n",
      "3  4  8  12  12\n",
      "   A  B   C   E  F\n",
      "0  1  5   9   6 -4\n",
      "1  2  6  10   8 -4\n",
      "2  3  7  11  10 -4\n",
      "3  4  8  12  12 -4\n",
      "   A  B   C   E  F   G\n",
      "0  1  5   9   6 -4   9\n",
      "1  2  6  10   8 -4  20\n",
      "2  3  7  11  10 -4  33\n",
      "3  4  8  12  12 -4  48\n",
      "   A  B   C   E  F   G         H\n",
      "0  1  5   9   6 -4   9  9.000000\n",
      "1  2  6  10   8 -4  20  5.000000\n",
      "2  3  7  11  10 -4  33  3.666667\n",
      "3  4  8  12  12 -4  48  3.000000\n"
     ]
    }
   ],
   "source": [
    "# Addition\n",
    "df['E'] = df['A'] + df['B']\n",
    "print(df)\n",
    "\n",
    "# Subtraction\n",
    "df['F'] = df['B'] - df['C']\n",
    "print(df)\n",
    "\n",
    "# Multiplication\n",
    "df['G'] = df['A'] * df['C']\n",
    "print(df)\n",
    "\n",
    "# Division\n",
    "df['H'] = df['C'] / df['A']\n",
    "print(df)"
   ]
  },
  {
   "cell_type": "markdown",
   "id": "967051bf-fda8-450e-aef2-64f306bbc6ff",
   "metadata": {},
   "source": [
    "* Logical OR Operation"
   ]
  },
  {
   "cell_type": "code",
   "execution_count": 27,
   "id": "5b52bfaf-7ae6-403c-972d-ea74888e5fc1",
   "metadata": {},
   "outputs": [
    {
     "name": "stdout",
     "output_type": "stream",
     "text": [
      "   A  B   C   E  F   G         H     I\n",
      "0  1  5   9   6 -4   9  9.000000  True\n",
      "1  2  6  10   8 -4  20  5.000000  True\n",
      "2  3  7  11  10 -4  33  3.666667  True\n",
      "3  4  8  12  12 -4  48  3.000000  True\n"
     ]
    }
   ],
   "source": [
    "# Logical OR operation (element-wise)\n",
    "df['I'] = (df['A'] > 2) | (df['B'] < 7)\n",
    "print(df)"
   ]
  },
  {
   "cell_type": "markdown",
   "id": "afb40086-7e69-4b1d-871a-2767b7dac041",
   "metadata": {},
   "source": [
    "# 4. Index Operations"
   ]
  },
  {
   "cell_type": "markdown",
   "id": "3da297f3-3199-495c-841f-17f5d43e3456",
   "metadata": {},
   "source": [
    "* Setting an Index"
   ]
  },
  {
   "cell_type": "code",
   "execution_count": null,
   "id": "40d0791c-c2a0-49b1-9228-afdd818d42a9",
   "metadata": {},
   "outputs": [],
   "source": []
  }
 ],
 "metadata": {
  "kernelspec": {
   "display_name": "Python 3 (ipykernel)",
   "language": "python",
   "name": "python3"
  },
  "language_info": {
   "codemirror_mode": {
    "name": "ipython",
    "version": 3
   },
   "file_extension": ".py",
   "mimetype": "text/x-python",
   "name": "python",
   "nbconvert_exporter": "python",
   "pygments_lexer": "ipython3",
   "version": "3.11.7"
  }
 },
 "nbformat": 4,
 "nbformat_minor": 5
}
