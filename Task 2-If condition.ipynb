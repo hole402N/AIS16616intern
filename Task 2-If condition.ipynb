{
 "cells": [
  {
   "cell_type": "markdown",
   "id": "48ca278d-16e6-409e-b631-07679d4fa3d1",
   "metadata": {},
   "source": [
    "# If Condition"
   ]
  },
  {
   "cell_type": "raw",
   "id": "5628a647-c65d-4f43-8c83-6c58e499d82d",
   "metadata": {},
   "source": [
    "Python Conditions and If statements\n",
    "Python supports the usual logical conditions from mathematics:"
   ]
  },
  {
   "cell_type": "markdown",
   "id": "b7712277-781c-4de3-99ae-24fd53910bbe",
   "metadata": {},
   "source": [
    "* Equals: a == b\n",
    "* Not Equals: a != b\n",
    "* Less than: a < b\n",
    "* Less than or equal to: a <= b\n",
    "* Greater than: a > b\n",
    "* Greater than or equal to: a >= b "
   ]
  },
  {
   "cell_type": "raw",
   "id": "54f45ccd-f38b-4824-8b8d-75edf82c6ca5",
   "metadata": {},
   "source": [
    "These conditions can be used in several ways, most commonly in \"if statements\" and loops.\n",
    "An \"if statement\" is written by using the if keyword."
   ]
  },
  {
   "cell_type": "code",
   "execution_count": 4,
   "id": "80e67da2-fc53-409f-aa37-cb9b96eb028e",
   "metadata": {},
   "outputs": [
    {
     "name": "stdout",
     "output_type": "stream",
     "text": [
      "b is greater than a\n"
     ]
    }
   ],
   "source": [
    "# Example 1\n",
    "a = 33\n",
    "b = 45\n",
    "if b > a:\n",
    "  print(\"b is greater than a\")"
   ]
  },
  {
   "cell_type": "raw",
   "id": "dd7ac59d-c7ed-4f23-8520-2b331f8774c5",
   "metadata": {},
   "source": [
    "# Indentation\n",
    "  Python relies on indentation (whitespace at the beginning of a line) to define scope in the code. Other programming languages often use curl     y-     brackets for this purpose."
   ]
  },
  {
   "cell_type": "code",
   "execution_count": 5,
   "id": "68bfeac8-ecd7-423e-8b0d-90876eb2f745",
   "metadata": {},
   "outputs": [
    {
     "ename": "IndentationError",
     "evalue": "expected an indented block after 'if' statement on line 4 (2386833998.py, line 5)",
     "output_type": "error",
     "traceback": [
      "\u001b[1;36m  Cell \u001b[1;32mIn[5], line 5\u001b[1;36m\u001b[0m\n\u001b[1;33m    print(\"b is greater than a\") # you will get an error\u001b[0m\n\u001b[1;37m    ^\u001b[0m\n\u001b[1;31mIndentationError\u001b[0m\u001b[1;31m:\u001b[0m expected an indented block after 'if' statement on line 4\n"
     ]
    }
   ],
   "source": [
    "# If statement, without indentation (will raise an error):\n",
    "a = 33\n",
    "b = 200\n",
    "if b > a:\n",
    "print(\"b is greater than a\") # we will get an error"
   ]
  },
  {
   "cell_type": "code",
   "execution_count": 7,
   "id": "b3b9fa73-e1f7-4c44-a5ea-da0be49c1ba7",
   "metadata": {},
   "outputs": [],
   "source": [
    "# Example 2\n",
    "b=49\n",
    "if (b==45):\n",
    "  print(\"True\")"
   ]
  },
  {
   "cell_type": "code",
   "execution_count": 11,
   "id": "c0c56bf9-72c1-4af3-b7ad-fe85d29d57c6",
   "metadata": {},
   "outputs": [
    {
     "name": "stdout",
     "output_type": "stream",
     "text": [
      "True\n"
     ]
    }
   ],
   "source": [
    "# Example 3\n",
    "a=45\n",
    "if (a==45):\n",
    "    print(\"True\")"
   ]
  },
  {
   "cell_type": "code",
   "execution_count": 23,
   "id": "48f6697d-781a-4d18-a4a2-e7b491d0b51c",
   "metadata": {},
   "outputs": [
    {
     "name": "stdout",
     "output_type": "stream",
     "text": [
      "a and b are equal\n"
     ]
    }
   ],
   "source": [
    "# Example 4\n",
    "a = 33\n",
    "b = 33\n",
    "if b==a:\n",
    "  print(\"a and b are equal\")"
   ]
  },
  {
   "cell_type": "code",
   "execution_count": 22,
   "id": "e226ff2f-d9a0-4d27-bb53-92678589d663",
   "metadata": {},
   "outputs": [
    {
     "name": "stdout",
     "output_type": "stream",
     "text": [
      "a is greater than b\n"
     ]
    }
   ],
   "source": [
    "# Example 5\n",
    "a = 200\n",
    "b = 33\n",
    "if b < a:\n",
    "  print(\"a is greater than b\")\n"
   ]
  },
  {
   "cell_type": "code",
   "execution_count": 27,
   "id": "e22b46d0-25f0-48c6-9924-2aaa92e117cc",
   "metadata": {},
   "outputs": [
    {
     "name": "stdout",
     "output_type": "stream",
     "text": [
      "student is pass in subject\n"
     ]
    }
   ],
   "source": [
    "# Example 6\n",
    "marks=50\n",
    "if (marks>=35):\n",
    "    print(\"student is pass in subject\")"
   ]
  },
  {
   "cell_type": "code",
   "execution_count": 28,
   "id": "f626283b-8a51-4641-9926-fe68ef46c711",
   "metadata": {},
   "outputs": [
    {
     "name": "stdout",
     "output_type": "stream",
     "text": [
      "it is positive number\n"
     ]
    }
   ],
   "source": [
    "# Example 7\n",
    "number=9\n",
    "if (number>0):\n",
    "    print(\"it is positive number\")"
   ]
  },
  {
   "cell_type": "code",
   "execution_count": 29,
   "id": "2cb0a9bc-8b11-4b2c-80e1-302f48f89abb",
   "metadata": {},
   "outputs": [
    {
     "name": "stdout",
     "output_type": "stream",
     "text": [
      "Both conditions are True\n"
     ]
    }
   ],
   "source": [
    "# Example 8\n",
    "a = 200\n",
    "b = 33\n",
    "c = 500\n",
    "if a > b and c > a:\n",
    "  print(\"Both conditions are True\")"
   ]
  },
  {
   "cell_type": "code",
   "execution_count": 32,
   "id": "29ec1f70-79d1-4053-9b99-8f6685a110c6",
   "metadata": {},
   "outputs": [
    {
     "name": "stdout",
     "output_type": "stream",
     "text": [
      "she fail in exam\n"
     ]
    }
   ],
   "source": [
    "# Example 9\n",
    "sneha=34\n",
    "if (sneha<35):\n",
    "    print(\"she fail in exam\")"
   ]
  },
  {
   "cell_type": "code",
   "execution_count": 33,
   "id": "ee26ebf7-f3d7-4664-9e2c-351063b606cf",
   "metadata": {},
   "outputs": [
    {
     "name": "stdout",
     "output_type": "stream",
     "text": [
      "a and c are not equal\n"
     ]
    }
   ],
   "source": [
    "# Example 10\n",
    "a=30\n",
    "c=34\n",
    "if (a!=c):\n",
    "    print(\"a and c are not equal\")"
   ]
  },
  {
   "cell_type": "code",
   "execution_count": null,
   "id": "82b0818d-7e06-4267-8a18-648c70238271",
   "metadata": {},
   "outputs": [],
   "source": []
  }
 ],
 "metadata": {
  "kernelspec": {
   "display_name": "Python 3 (ipykernel)",
   "language": "python",
   "name": "python3"
  },
  "language_info": {
   "codemirror_mode": {
    "name": "ipython",
    "version": 3
   },
   "file_extension": ".py",
   "mimetype": "text/x-python",
   "name": "python",
   "nbconvert_exporter": "python",
   "pygments_lexer": "ipython3",
   "version": "3.11.7"
  }
 },
 "nbformat": 4,
 "nbformat_minor": 5
}
