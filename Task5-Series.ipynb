{
 "cells": [
  {
   "cell_type": "markdown",
   "id": "5d8ca3c8-e33b-4955-af5b-b036916245c0",
   "metadata": {},
   "source": [
    "# Pandas library."
   ]
  },
  {
   "cell_type": "markdown",
   "id": "37dd52a9-1d99-44bf-a92f-bd407051ac4c",
   "metadata": {},
   "source": [
    "* Pandas is a Python library.\n",
    "* Pandas is used to analyze data."
   ]
  },
  {
   "cell_type": "markdown",
   "id": "6e70c82a-3d79-461b-a01c-d0adf54cfc81",
   "metadata": {},
   "source": [
    "# What is Pandas?\n",
    "* Pandas is a Python library used for working with data sets.\n",
    "* It has functions for analyzing, cleaning, exploring, and manipulating data."
   ]
  },
  {
   "cell_type": "markdown",
   "id": "8943a9c0-4ddc-4697-b14b-e8a211483925",
   "metadata": {},
   "source": [
    "# Why Use Pandas?\n",
    "* Pandas allows us to analyze big data and make conclusions based on statistical theories.\n",
    "* Pandas can clean messy data sets, and make them readable and relevant.\n",
    "* Relevant data is very important in data science."
   ]
  },
  {
   "cell_type": "markdown",
   "id": "cef52e90-b878-46fb-a22f-8928ce6a1107",
   "metadata": {},
   "source": [
    "# What Can Pandas Do?\n",
    "* Pandas gives you answers about the data. Like:\n",
    "* Is there a correlation between two or more columns?\n",
    "* What is average value?\n",
    "* Max value?\n",
    "* Min value?\n",
    "* Pandas are also able to delete rows that are not relevant, or contains wrong values, like empty or NULL values. This is called cleaning the data."
   ]
  },
  {
   "cell_type": "markdown",
   "id": "62fb7593-0688-4e99-9f04-f2f17dd46e11",
   "metadata": {},
   "source": [
    "# Series"
   ]
  },
  {
   "cell_type": "raw",
   "id": "8cf923b9-8878-4bb4-93ac-ff778b562be6",
   "metadata": {},
   "source": [
    "# What is a Series?\n",
    "  1) A Pandas Series is like a column in a table.\n",
    "  2) It is a one-dimensional array holding data of any type."
   ]
  },
  {
   "cell_type": "raw",
   "id": "c9afe07c-cca4-4a1a-94f9-f185e0b9047d",
   "metadata": {},
   "source": [
    "Pandas library.is a one-dimensional labeled array capable of holding data of any type (integer, string, float, python objects, etc.). The axis labels are collectively \n",
    "called index. Labels need not be unique but must be a hashable type. The object supports both integer and label-based indexing and provides a host of \n",
    "methods for performing operations involving the index. \n",
    "\n"
   ]
  },
  {
   "cell_type": "code",
   "execution_count": 1,
   "id": "cff80a27-119b-4231-8d3b-2c471af9a0f5",
   "metadata": {},
   "outputs": [
    {
     "name": "stdout",
     "output_type": "stream",
     "text": [
      "0    1\n",
      "1    7\n",
      "2    2\n",
      "dtype: int64\n"
     ]
    }
   ],
   "source": [
    "# Create a simple Pandas Series from a list:\n",
    "import pandas as pd\n",
    "a = [1, 7, 2]\n",
    "series = pd.Series(a)\n",
    "print(series)"
   ]
  },
  {
   "cell_type": "raw",
   "id": "4fe3bc6e-8d0f-4721-8b6e-8111e791a00a",
   "metadata": {},
   "source": [
    "# Creating a series from array: In order to create a series from NumPy array, we have to import numpy module and have to use array() function. \n"
   ]
  },
  {
   "cell_type": "code",
   "execution_count": 3,
   "id": "3def8fa1-6f48-4fdc-acbb-f91152f5b9e1",
   "metadata": {},
   "outputs": [
    {
     "name": "stdout",
     "output_type": "stream",
     "text": [
      "0    g\n",
      "1    e\n",
      "2    e\n",
      "3    k\n",
      "4    s\n",
      "dtype: object\n"
     ]
    }
   ],
   "source": [
    "import pandas as pd\n",
    "import numpy as np\n",
    " # simple array\n",
    "data = np.array(['g', 'e', 'e', 'k', 's'])\n",
    "ser = pd.Series(data)\n",
    "print(ser)"
   ]
  },
  {
   "cell_type": "raw",
   "id": "4c180f99-c53e-42e9-8c19-1af5127ca05d",
   "metadata": {},
   "source": [
    "# Creating a series from array with an index: In order to create a series by explicitly proving index instead of the default, we have to provide a \n",
    "  list of elements to the index parameter with the same number of elements as it is an array."
   ]
  },
  {
   "cell_type": "code",
   "execution_count": 4,
   "id": "ec5084f1-adda-4d0f-b66b-0bd3bd3bba32",
   "metadata": {},
   "outputs": [
    {
     "name": "stdout",
     "output_type": "stream",
     "text": [
      "10    g\n",
      "11    e\n",
      "12    e\n",
      "13    k\n",
      "14    s\n",
      "dtype: object\n"
     ]
    }
   ],
   "source": [
    "import pandas as pd\n",
    "import numpy as np\n",
    " # simple array\n",
    "data = np.array(['g', 'e', 'e', 'k', 's'])\n",
    " # providing an index\n",
    "ser = pd.Series(data, index=[10, 11, 12, 13, 14])\n",
    "print(ser)"
   ]
  },
  {
   "cell_type": "raw",
   "id": "d264ae24-0368-45be-92ce-1c59a25a5ef8",
   "metadata": {},
   "source": [
    "# Creating a series from list:In order to create a series from list, we have to first create a list after that we can create a series from list. "
   ]
  },
  {
   "cell_type": "code",
   "execution_count": 5,
   "id": "7af9045c-4930-41ce-9650-b94b4e700342",
   "metadata": {},
   "outputs": [
    {
     "name": "stdout",
     "output_type": "stream",
     "text": [
      "0    g\n",
      "1    e\n",
      "2    e\n",
      "3    k\n",
      "4    s\n",
      "dtype: object\n"
     ]
    }
   ],
   "source": [
    "import pandas as pd\n",
    " # a simple list\n",
    "list = ['g', 'e', 'e', 'k', 's']\n",
    " # create series form a list\n",
    "ser = pd.Series(list)\n",
    "print(ser)"
   ]
  },
  {
   "cell_type": "raw",
   "id": "3d7d7288-10b7-4752-877e-495c1ade61d4",
   "metadata": {},
   "source": [
    "# Creating a series from dictionary:\n",
    "In order to create a series from the dictionary, we have to first create a dictionary after that we can make a series using dictionary. Dictionary keys are used to construct indexes of Series.  \n",
    "\n"
   ]
  },
  {
   "cell_type": "code",
   "execution_count": 6,
   "id": "cbd84da3-9829-4719-9749-7b566cfff7d1",
   "metadata": {},
   "outputs": [
    {
     "name": "stdout",
     "output_type": "stream",
     "text": [
      "Geeks    10\n",
      "for      20\n",
      "geeks    30\n",
      "dtype: int64\n"
     ]
    }
   ],
   "source": [
    "import pandas as pd\n",
    " # a simple dictionary\n",
    "dict = {'Geeks': 10,\n",
    "        'for': 20,\n",
    "        'geeks': 30}\n",
    " # create series from dictionary\n",
    "ser = pd.Series(dict)\n",
    " \n",
    "print(ser)"
   ]
  },
  {
   "cell_type": "raw",
   "id": "fca47052-3460-4078-8f77-a4555b7c996f",
   "metadata": {},
   "source": [
    "# Creating a series from scalar value:\n",
    "  In order to create a series from scalar value, an index must be provided. The scalar value will be repeated to match the length of the index. "
   ]
  },
  {
   "cell_type": "code",
   "execution_count": 9,
   "id": "2651f1f0-64ad-4f0d-9dd2-c70c5f80ceca",
   "metadata": {},
   "outputs": [
    {
     "name": "stdout",
     "output_type": "stream",
     "text": [
      "0    10\n",
      "1    10\n",
      "2    10\n",
      "3    10\n",
      "4    10\n",
      "5    10\n",
      "dtype: int64\n"
     ]
    }
   ],
   "source": [
    "import pandas as pd\n",
    "import numpy as np\n",
    " # giving a scalar value with index\n",
    "ser = pd.Series(10, index=[0, 1, 2, 3, 4, 5])\n",
    "print(ser)"
   ]
  },
  {
   "cell_type": "markdown",
   "id": "10b3f2ff-b817-4b5f-ae78-1961decc28ad",
   "metadata": {},
   "source": [
    "# Methods in series\n",
    "* series.head(n):Returns the first n elements.\n",
    "* series.tail(n):Returns the last n elements.\n",
    "* series.describe():Provide descriptive statistics for the series.\n",
    "* series.mean():Computing the mean of the series value.\n",
    "* series.median():Computing the median of the series value.\n",
    "* series.max():Returns the maximum value.\n",
    "* series.min():Returns the minimum value.\n",
    "* series.sum():Returns the sum of the series value.\n",
    "* sries.value_counts():Returns the counts of unique value.\n",
    "* sries.apply(fun):Applies a function to each element in the series.\n",
    "* sries.map(fun):Maps values of the series using a given finction. "
   ]
  },
  {
   "cell_type": "markdown",
   "id": "b41f2a53-eb58-412e-9128-598c28228ac9",
   "metadata": {},
   "source": [
    "# Operation in series"
   ]
  },
  {
   "cell_type": "code",
   "execution_count": null,
   "id": "88a99d92-93ad-435e-b3fc-88c8d87d1e24",
   "metadata": {},
   "outputs": [],
   "source": [
    "# Arithmetic Operation\n",
    "  We can perform element-wise arithmetic operations between Series or between a Series and a scalar value."
   ]
  },
  {
   "cell_type": "code",
   "execution_count": 10,
   "id": "a3496fff-ffb0-43c4-a10a-f1bf54367f64",
   "metadata": {},
   "outputs": [
    {
     "name": "stdout",
     "output_type": "stream",
     "text": [
      "0    11\n",
      "1    22\n",
      "2    33\n",
      "3    44\n",
      "dtype: int64\n"
     ]
    }
   ],
   "source": [
    "import pandas as pd\n",
    "s1 = pd.Series([1, 2, 3, 4])\n",
    "s2 = pd.Series([10, 20, 30, 40])\n",
    "# Addition\n",
    "s_add = s1 + s2\n",
    "print(s_add)"
   ]
  },
  {
   "cell_type": "code",
   "execution_count": 12,
   "id": "7e175bbc-e74a-4313-9641-97a1f5a16060",
   "metadata": {},
   "outputs": [
    {
     "name": "stdout",
     "output_type": "stream",
     "text": [
      "0    -9\n",
      "1   -18\n",
      "2   -27\n",
      "3   -36\n",
      "dtype: int64\n"
     ]
    }
   ],
   "source": [
    "# Subtraction\n",
    "s_sub = s1 - s2\n",
    "print(s_sub)"
   ]
  },
  {
   "cell_type": "code",
   "execution_count": 13,
   "id": "dfdff6c1-066f-489c-83b2-7e30d0916b6c",
   "metadata": {},
   "outputs": [
    {
     "name": "stdout",
     "output_type": "stream",
     "text": [
      "0     10\n",
      "1     40\n",
      "2     90\n",
      "3    160\n",
      "dtype: int64\n"
     ]
    }
   ],
   "source": [
    "# Multiplication\n",
    "s_mul = s1 * s2\n",
    "print(s_mul)"
   ]
  },
  {
   "cell_type": "code",
   "execution_count": 14,
   "id": "fbcf6b2e-7396-4e26-9947-fc55b396be67",
   "metadata": {},
   "outputs": [
    {
     "name": "stdout",
     "output_type": "stream",
     "text": [
      "0    0.1\n",
      "1    0.1\n",
      "2    0.1\n",
      "3    0.1\n",
      "dtype: float64\n"
     ]
    }
   ],
   "source": [
    "# Division\n",
    "s_div = s1 / s2\n",
    "print(s_div)"
   ]
  },
  {
   "cell_type": "code",
   "execution_count": 15,
   "id": "03379659-71a5-4b24-91cf-8e79e981e4b3",
   "metadata": {},
   "outputs": [
    {
     "name": "stdout",
     "output_type": "stream",
     "text": [
      "0    11\n",
      "1    12\n",
      "2    13\n",
      "3    14\n",
      "dtype: int64\n",
      "0    2\n",
      "1    4\n",
      "2    6\n",
      "3    8\n",
      "dtype: int64\n"
     ]
    }
   ],
   "source": [
    "# Operations with scalars\n",
    "s_add_scalar = s1 + 10\n",
    "s_mul_scalar = s1 * 2\n",
    "print(s_add_scalar)\n",
    "print(s_mul_scalar)"
   ]
  },
  {
   "cell_type": "raw",
   "id": "26b04d6b-6c0e-4b3b-8cd6-078bf2e00c0b",
   "metadata": {},
   "source": [
    "# Comparison Operations\n",
    "  We can perform element-wise comparison operations."
   ]
  },
  {
   "cell_type": "code",
   "execution_count": 18,
   "id": "1b1eda72-f7ad-42b1-b9a1-44dfc8545a5f",
   "metadata": {},
   "outputs": [
    {
     "name": "stdout",
     "output_type": "stream",
     "text": [
      "0    False\n",
      "1    False\n",
      "2     True\n",
      "3     True\n",
      "dtype: bool\n"
     ]
    }
   ],
   "source": [
    "import pandas as pd\n",
    "s1 = pd.Series([1, 2, 3, 4])\n",
    "s2 = pd.Series([10, 20, 30, 40])\n",
    "# Greater than\n",
    "s_gt = s1 > 2\n",
    "print(s_gt)"
   ]
  },
  {
   "cell_type": "code",
   "execution_count": 19,
   "id": "0804a4aa-73ca-42be-b93b-fefc7aa2a9d3",
   "metadata": {},
   "outputs": [
    {
     "name": "stdout",
     "output_type": "stream",
     "text": [
      "0     True\n",
      "1     True\n",
      "2     True\n",
      "3    False\n",
      "dtype: bool\n"
     ]
    }
   ],
   "source": [
    "# Less than or equal to\n",
    "s_le = s1 <= 3\n",
    "print(s_le)"
   ]
  },
  {
   "cell_type": "code",
   "execution_count": 20,
   "id": "f4c2ed67-a197-4b6e-8e60-f24a453f11d4",
   "metadata": {},
   "outputs": [
    {
     "name": "stdout",
     "output_type": "stream",
     "text": [
      "0    False\n",
      "1     True\n",
      "2    False\n",
      "3    False\n",
      "dtype: bool\n"
     ]
    }
   ],
   "source": [
    "# Equality\n",
    "s_eq = s1 == 2\n",
    "print(s_eq)"
   ]
  },
  {
   "cell_type": "code",
   "execution_count": 21,
   "id": "eec6c1c4-1fbe-4d62-afac-4f8e4aeeb408",
   "metadata": {},
   "outputs": [
    {
     "name": "stdout",
     "output_type": "stream",
     "text": [
      "0     True\n",
      "1    False\n",
      "2     True\n",
      "3     True\n",
      "dtype: bool\n"
     ]
    }
   ],
   "source": [
    "# Not equal\n",
    "s_ne = s1 != 2\n",
    "print(s_ne)"
   ]
  },
  {
   "cell_type": "raw",
   "id": "86ea87ee-d7f1-48b8-a8f9-133816ca8464",
   "metadata": {},
   "source": [
    "# Logical Operations\n",
    "  Logical operations can be performed using bitwise operators.\n"
   ]
  },
  {
   "cell_type": "code",
   "execution_count": 24,
   "id": "e1d555bf-e413-44b8-a1ce-02fee5ee089a",
   "metadata": {},
   "outputs": [
    {
     "name": "stdout",
     "output_type": "stream",
     "text": [
      "0    False\n",
      "1    False\n",
      "2     True\n",
      "3    False\n",
      "dtype: bool\n"
     ]
    }
   ],
   "source": [
    "import pandas as pd\n",
    "s1 = pd.Series([1, 2, 3, 4])\n",
    "s2 = pd.Series([10, 20, 30, 40])\n",
    "# Logical AND\n",
    "s_and = (s1 > 2) & (s2 < 35)\n",
    "print(s_and)"
   ]
  },
  {
   "cell_type": "code",
   "execution_count": 25,
   "id": "41ccb430-c53e-43ab-8e5e-b2ec5611041a",
   "metadata": {},
   "outputs": [
    {
     "name": "stdout",
     "output_type": "stream",
     "text": [
      "0    True\n",
      "1    True\n",
      "2    True\n",
      "3    True\n",
      "dtype: bool\n"
     ]
    }
   ],
   "source": [
    "# Logical OR\n",
    "s_or = (s1 > 2) | (s2 < 35)\n",
    "print(s_or)"
   ]
  },
  {
   "cell_type": "code",
   "execution_count": 26,
   "id": "52a73e8d-bf7b-4a20-b7c5-02072c0d61d3",
   "metadata": {},
   "outputs": [
    {
     "name": "stdout",
     "output_type": "stream",
     "text": [
      "0     True\n",
      "1     True\n",
      "2    False\n",
      "3    False\n",
      "dtype: bool\n"
     ]
    }
   ],
   "source": [
    "# Logical NOT\n",
    "s_not = ~(s1 > 2)\n",
    "print(s_not)"
   ]
  },
  {
   "cell_type": "raw",
   "id": "2e109d2d-b2d1-4fe6-b3c9-d34948ed39bc",
   "metadata": {},
   "source": [
    "# Statistical Operations\n",
    "  Statistical operations can be used to describe the data in a Series.\n"
   ]
  },
  {
   "cell_type": "code",
   "execution_count": 27,
   "id": "e32c7230-344a-40ac-b384-e3fbbf1a3214",
   "metadata": {},
   "outputs": [
    {
     "name": "stdout",
     "output_type": "stream",
     "text": [
      "count    4.000000\n",
      "mean     2.500000\n",
      "std      1.290994\n",
      "min      1.000000\n",
      "25%      1.750000\n",
      "50%      2.500000\n",
      "75%      3.250000\n",
      "max      4.000000\n",
      "dtype: float64\n"
     ]
    }
   ],
   "source": [
    "import pandas as pd\n",
    "s1 = pd.Series([1, 2, 3, 4])\n",
    "s2 = pd.Series([10, 20, 30, 40])\n",
    "# Descriptive statistics\n",
    "s_describe = s1.describe()\n",
    "print(s_describe)"
   ]
  },
  {
   "cell_type": "code",
   "execution_count": 28,
   "id": "84e14828-8871-47b4-9547-ccd002fbbe67",
   "metadata": {},
   "outputs": [
    {
     "name": "stdout",
     "output_type": "stream",
     "text": [
      "0     1\n",
      "1     3\n",
      "2     6\n",
      "3    10\n",
      "dtype: int64\n"
     ]
    }
   ],
   "source": [
    "# Cumulative sum\n",
    "s_cumsum = s1.cumsum()\n",
    "print(s_cumsum )"
   ]
  },
  {
   "cell_type": "code",
   "execution_count": 29,
   "id": "e96dcae3-c158-4798-a957-7f030ec1c538",
   "metadata": {},
   "outputs": [
    {
     "name": "stdout",
     "output_type": "stream",
     "text": [
      "0     1\n",
      "1     2\n",
      "2     6\n",
      "3    24\n",
      "dtype: int64\n"
     ]
    }
   ],
   "source": [
    "# Cumulative product\n",
    "s_cumprod = s1.cumprod()\n",
    "print(s_cumprod)"
   ]
  },
  {
   "cell_type": "code",
   "execution_count": null,
   "id": "952edc75-9b6d-42a0-aa2d-37325b671356",
   "metadata": {},
   "outputs": [],
   "source": []
  }
 ],
 "metadata": {
  "kernelspec": {
   "display_name": "Python 3 (ipykernel)",
   "language": "python",
   "name": "python3"
  },
  "language_info": {
   "codemirror_mode": {
    "name": "ipython",
    "version": 3
   },
   "file_extension": ".py",
   "mimetype": "text/x-python",
   "name": "python",
   "nbconvert_exporter": "python",
   "pygments_lexer": "ipython3",
   "version": "3.11.7"
  }
 },
 "nbformat": 4,
 "nbformat_minor": 5
}
