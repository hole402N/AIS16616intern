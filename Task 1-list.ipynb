{
 "cells": [
  {
   "cell_type": "markdown",
   "id": "00e93dad-1df2-44a2-874d-81d70ff0a538",
   "metadata": {},
   "source": [
    "### Mutable"
   ]
  },
  {
   "cell_type": "markdown",
   "id": "7f4c3d06-b263-4142-9f34-b0495af00b57",
   "metadata": {},
   "source": [
    "# Python List"
   ]
  },
  {
   "cell_type": "markdown",
   "id": "5ea24601-6938-4c8b-acc6-f650403ea2a4",
   "metadata": {},
   "source": [
    "* Mutable-can change or update.\n",
    "* Ordered collection-indexes starting from 0.\n",
    "* Iterable and Hashable.\n",
    "* Declared using [] brackets.\n",
    "* Each elements seperates using commai.e.,\n",
    "* List within list is possible combination."
   ]
  },
  {
   "cell_type": "raw",
   "id": "415cfed1-f321-46d0-86ed-89f779aca156",
   "metadata": {},
   "source": [
    "# List creation [] ()"
   ]
  },
  {
   "cell_type": "code",
   "execution_count": 5,
   "id": "e9797ccd-acb6-499f-86ee-909d583b3d0d",
   "metadata": {},
   "outputs": [
    {
     "data": {
      "text/plain": [
       "['apple', 100, 'banana', 6, 'cherry', 90, 'banana']"
      ]
     },
     "execution_count": 5,
     "metadata": {},
     "output_type": "execute_result"
    }
   ],
   "source": [
    "l1= [\"apple\",100,\"banana\",6 ,\"cherry\",90,\"banana\"]\n",
    "l1"
   ]
  },
  {
   "cell_type": "code",
   "execution_count": 7,
   "id": "68423efb-ea00-4e96-a991-08a1630e42d9",
   "metadata": {},
   "outputs": [
    {
     "data": {
      "text/plain": [
       "list"
      ]
     },
     "execution_count": 7,
     "metadata": {},
     "output_type": "execute_result"
    }
   ],
   "source": [
    "type(l1)"
   ]
  },
  {
   "cell_type": "code",
   "execution_count": 8,
   "id": "c8f98419-c5f3-4d7e-b54b-11dcfb11c1ed",
   "metadata": {},
   "outputs": [],
   "source": [
    "# empty list\n",
    "my_list=[]"
   ]
  },
  {
   "cell_type": "code",
   "execution_count": 9,
   "id": "cd08bca3-486c-41ff-8551-a51ddb8ff97c",
   "metadata": {},
   "outputs": [
    {
     "data": {
      "text/plain": [
       "[]"
      ]
     },
     "execution_count": 9,
     "metadata": {},
     "output_type": "execute_result"
    }
   ],
   "source": [
    "my_list"
   ]
  },
  {
   "cell_type": "code",
   "execution_count": 10,
   "id": "891b8acc-c495-4273-9136-e2beb12325ac",
   "metadata": {},
   "outputs": [
    {
     "data": {
      "text/plain": [
       "[4, 5, 6]"
      ]
     },
     "execution_count": 10,
     "metadata": {},
     "output_type": "execute_result"
    }
   ],
   "source": [
    "# List of integer\n",
    "my_list=[4,5,6]\n",
    "my_list"
   ]
  },
  {
   "cell_type": "code",
   "execution_count": 11,
   "id": "f6e0e298-cc23-49fc-b2e6-fc61dd10de7b",
   "metadata": {},
   "outputs": [
    {
     "data": {
      "text/plain": [
       "[1, 'hey', 3.4]"
      ]
     },
     "execution_count": 11,
     "metadata": {},
     "output_type": "execute_result"
    }
   ],
   "source": [
    "# list with mixed data type\n",
    "my_list=[1,\"hey\",3.4]\n",
    "my_list"
   ]
  },
  {
   "cell_type": "code",
   "execution_count": 23,
   "id": "6e3932e0-a076-484d-a62a-b859ec3dcfaa",
   "metadata": {},
   "outputs": [],
   "source": [
    "# nested list\n",
    "my_list= [[\"mouse\",8, 4], 6,['a']]"
   ]
  },
  {
   "cell_type": "code",
   "execution_count": 24,
   "id": "4f2ddb1d-7d49-46f3-9d6d-10f49c2fe90d",
   "metadata": {},
   "outputs": [
    {
     "data": {
      "text/plain": [
       "[['mouse', 8, 4], 6, ['a']]"
      ]
     },
     "execution_count": 24,
     "metadata": {},
     "output_type": "execute_result"
    }
   ],
   "source": [
    "my_list"
   ]
  },
  {
   "cell_type": "code",
   "execution_count": 17,
   "id": "1e4d6778-5b26-44b6-9bd7-6984dfc39250",
   "metadata": {},
   "outputs": [
    {
     "data": {
      "text/plain": [
       "'apple'"
      ]
     },
     "execution_count": 17,
     "metadata": {},
     "output_type": "execute_result"
    }
   ],
   "source": [
    "# Accesing the items\n",
    "# you access the list item by referring to the index number\n",
    "l1[0]"
   ]
  },
  {
   "cell_type": "code",
   "execution_count": 26,
   "id": "a64cd7f2-5b76-4832-a1d2-19a951be82f1",
   "metadata": {},
   "outputs": [],
   "source": [
    "my_list=['p','r','o','u','e']"
   ]
  },
  {
   "cell_type": "code",
   "execution_count": 27,
   "id": "4703ba40-62b6-4945-b45f-e6c48c66ee12",
   "metadata": {},
   "outputs": [
    {
     "data": {
      "text/plain": [
       "'u'"
      ]
     },
     "execution_count": 27,
     "metadata": {},
     "output_type": "execute_result"
    }
   ],
   "source": [
    "# +ve indexing starting start from zero\n",
    "# -ve indexing starting from -1\n",
    "my_list[-2]"
   ]
  },
  {
   "cell_type": "code",
   "execution_count": 28,
   "id": "6efd4b9e-c081-4e89-b992-79ce33c5350d",
   "metadata": {},
   "outputs": [
    {
     "data": {
      "text/plain": [
       "'o'"
      ]
     },
     "execution_count": 28,
     "metadata": {},
     "output_type": "execute_result"
    }
   ],
   "source": [
    "my_list[2]"
   ]
  },
  {
   "cell_type": "code",
   "execution_count": 29,
   "id": "707c61b6-7159-48be-9c93-031679b6bf7c",
   "metadata": {},
   "outputs": [
    {
     "data": {
      "text/plain": [
       "['p', 'r', 'o', 'u', 'e']"
      ]
     },
     "execution_count": 29,
     "metadata": {},
     "output_type": "execute_result"
    }
   ],
   "source": [
    "my_list[:]# start:include and end:exclude"
   ]
  },
  {
   "cell_type": "code",
   "execution_count": 32,
   "id": "b972e1a6-67da-4f09-880a-917539dc66f2",
   "metadata": {},
   "outputs": [],
   "source": [
    "#Error! only integer can be used for indexing"
   ]
  },
  {
   "cell_type": "code",
   "execution_count": 33,
   "id": "c79ca8c1-ae92-4071-ba58-f7ae70555133",
   "metadata": {},
   "outputs": [],
   "source": [
    "# Nested list \n",
    "n_list=[\"Happy\",[2,0,1,[5]]]\n"
   ]
  },
  {
   "cell_type": "code",
   "execution_count": 34,
   "id": "f3900503-b86a-4b14-b690-df564ff42622",
   "metadata": {},
   "outputs": [
    {
     "data": {
      "text/plain": [
       "5"
      ]
     },
     "execution_count": 34,
     "metadata": {},
     "output_type": "execute_result"
    }
   ],
   "source": [
    "n_list[-1][3][-1]"
   ]
  },
  {
   "cell_type": "code",
   "execution_count": 35,
   "id": "cc80e6e2-f33f-4260-a54a-ca4f01ad1c90",
   "metadata": {},
   "outputs": [
    {
     "data": {
      "text/plain": [
       "5"
      ]
     },
     "execution_count": 35,
     "metadata": {},
     "output_type": "execute_result"
    }
   ],
   "source": [
    "# Nested indexing\n",
    "n_list[-1][-1][-1]"
   ]
  },
  {
   "cell_type": "code",
   "execution_count": 36,
   "id": "c48eecf6-3641-4ce7-9fb0-b0870bf37b73",
   "metadata": {},
   "outputs": [
    {
     "data": {
      "text/plain": [
       "[5]"
      ]
     },
     "execution_count": 36,
     "metadata": {},
     "output_type": "execute_result"
    }
   ],
   "source": [
    "n_list[1][3]"
   ]
  },
  {
   "cell_type": "code",
   "execution_count": 1,
   "id": "f807f4a0-19f0-4a10-8c2d-6566aa3e953f",
   "metadata": {},
   "outputs": [],
   "source": [
    "# Negative Indexing-python allows negative indexing for its sequences.\n",
    "# The index of -1 refers to the last item ,-2 to the second last item and \n",
    "my_list=['p','r','o','b','e']"
   ]
  },
  {
   "cell_type": "code",
   "execution_count": 2,
   "id": "d76b7d93-e6be-444b-bb46-7c28494edfa1",
   "metadata": {},
   "outputs": [
    {
     "data": {
      "text/plain": [
       "['p', 'r', 'o', 'b', 'e']"
      ]
     },
     "execution_count": 2,
     "metadata": {},
     "output_type": "execute_result"
    }
   ],
   "source": [
    "my_list"
   ]
  },
  {
   "cell_type": "raw",
   "id": "738537df-dea3-4b46-a5a4-ff2d004073ed",
   "metadata": {},
   "source": [
    "print(my_list[4])"
   ]
  },
  {
   "cell_type": "code",
   "execution_count": 4,
   "id": "a86f0f90-0424-4092-89a6-80712feed460",
   "metadata": {},
   "outputs": [
    {
     "data": {
      "text/plain": [
       "['p', 'r', 'a', 'g', 'm', 'h', 'f', 'i', 'z']"
      ]
     },
     "execution_count": 4,
     "metadata": {},
     "output_type": "execute_result"
    }
   ],
   "source": [
    "#slicing-we can access a range of item in a list by using the slicing operator\n",
    "my_list=['p','r','a','g','m','h','f','i','z']\n",
    "my_list"
   ]
  },
  {
   "cell_type": "code",
   "execution_count": 5,
   "id": "f75f35c1-d519-407f-96bb-ea8c6a4e0d9f",
   "metadata": {},
   "outputs": [
    {
     "data": {
      "text/plain": [
       "['p', 'r', 'a', 'g', 'm', 'h', 'f', 'i', 'z']"
      ]
     },
     "execution_count": 5,
     "metadata": {},
     "output_type": "execute_result"
    }
   ],
   "source": [
    "my_list[:]"
   ]
  },
  {
   "cell_type": "code",
   "execution_count": 8,
   "id": "3a364d3e-f790-4683-b7eb-6ffff705cca4",
   "metadata": {},
   "outputs": [
    {
     "name": "stdout",
     "output_type": "stream",
     "text": [
      "['g', 'm', 'h']\n"
     ]
    }
   ],
   "source": [
    "# elements 3rd to 5th  #start:include  end:exclude\n",
    "print(my_list[3:6])"
   ]
  },
  {
   "cell_type": "code",
   "execution_count": 9,
   "id": "185909f1-4545-4d4b-a675-d4b641c17bc1",
   "metadata": {},
   "outputs": [
    {
     "name": "stdout",
     "output_type": "stream",
     "text": [
      "['f', 'i', 'z']\n"
     ]
    }
   ],
   "source": [
    "# element 6th to end \n",
    "print(my_list[6:])"
   ]
  },
  {
   "cell_type": "code",
   "execution_count": 10,
   "id": "cdde4021-7f3a-4f8e-a92c-4958a7212429",
   "metadata": {},
   "outputs": [
    {
     "name": "stdout",
     "output_type": "stream",
     "text": [
      "['p', 'r', 'a', 'g', 'm', 'h', 'f', 'i', 'z']\n"
     ]
    }
   ],
   "source": [
    "# element begining to end\n",
    "print(my_list[:])"
   ]
  },
  {
   "cell_type": "code",
   "execution_count": 9,
   "id": "486ddd7f-b516-4c8b-8c6a-d8267f391790",
   "metadata": {},
   "outputs": [],
   "source": [
    "# change the item values\n",
    "# To change the value of specific item, refer to the index number \n",
    "l1[1]= \"blackcurrant\""
   ]
  },
  {
   "cell_type": "code",
   "execution_count": 10,
   "id": "c5826e24-5f39-4918-9799-c64ac8e1ce28",
   "metadata": {},
   "outputs": [
    {
     "data": {
      "text/plain": [
       "['apple', 'blackcurrant', 'banana', 6, 'cherry', 90, 'banana']"
      ]
     },
     "execution_count": 10,
     "metadata": {},
     "output_type": "execute_result"
    }
   ],
   "source": [
    "l1"
   ]
  },
  {
   "cell_type": "code",
   "execution_count": 11,
   "id": "213fbb1c-d4ee-465f-afb7-79db0198c5e6",
   "metadata": {},
   "outputs": [
    {
     "data": {
      "text/plain": [
       "7"
      ]
     },
     "execution_count": 11,
     "metadata": {},
     "output_type": "execute_result"
    }
   ],
   "source": [
    "# list length\n",
    "# To determine how many item a list has ,use the len() method\n",
    "len(l1)"
   ]
  },
  {
   "cell_type": "code",
   "execution_count": 15,
   "id": "e3d8c457-1a03-4949-bc5f-5d2573c474f4",
   "metadata": {},
   "outputs": [
    {
     "ename": "AttributeError",
     "evalue": "'tuple' object has no attribute 'append'",
     "output_type": "error",
     "traceback": [
      "\u001b[1;31m---------------------------------------------------------------------------\u001b[0m",
      "\u001b[1;31mAttributeError\u001b[0m                            Traceback (most recent call last)",
      "Cell \u001b[1;32mIn[15], line 2\u001b[0m\n\u001b[0;32m      1\u001b[0m t\u001b[38;5;241m=\u001b[39m(\u001b[38;5;241m1\u001b[39m,\u001b[38;5;241m2\u001b[39m,\u001b[38;5;241m3\u001b[39m)\n\u001b[1;32m----> 2\u001b[0m t\u001b[38;5;241m.\u001b[39mappend(\u001b[38;5;124m\"\u001b[39m\u001b[38;5;124mAIS\u001b[39m\u001b[38;5;124m\"\u001b[39m)\n",
      "\u001b[1;31mAttributeError\u001b[0m: 'tuple' object has no attribute 'append'"
     ]
    }
   ],
   "source": [
    "t=(1,2,3)\n",
    "t.append(\"AIS\")"
   ]
  },
  {
   "cell_type": "markdown",
   "id": "51535d9b-44c0-44f2-9bc3-90deb4c5a40f",
   "metadata": {},
   "source": [
    "# List of method"
   ]
  },
  {
   "cell_type": "raw",
   "id": "73a92070-2ce8-450e-8943-87db859ddfd8",
   "metadata": {},
   "source": [
    " Method\t                            Description\n",
    "append()\t              Adds an element at the end of the list\n",
    "clear()\t                  Removes all the elements from the list\n",
    "copy()\t                  Returns a copy of the list\n",
    "count()\t                  Returns the number of elements with the specified value\n",
    "extend()\t              Add the elements of a list (or any iterable), to the end of the current list\n",
    "index()\t                  Returns the index of the first element with the specified value\n",
    "insert()\t              Adds an element at the specified position\n",
    "pop()\t                  Removes the element at the specified position\n",
    "remove()\t              Removes the first item with the specified value\n",
    "reverse()\t              Reverses the order of the list\n",
    "sort()\t                  Sorts the list"
   ]
  },
  {
   "cell_type": "code",
   "execution_count": 3,
   "id": "f5548d15-fac0-4b12-affc-327f621a1356",
   "metadata": {},
   "outputs": [
    {
     "name": "stdout",
     "output_type": "stream",
     "text": [
      "['apple', 'banana', 'cherry', 'orange']\n"
     ]
    }
   ],
   "source": [
    "# append() Method\n",
    "fruits = ['apple', 'banana', 'cherry']\n",
    "fruits.append(\"orange\")\n",
    "print(fruits)"
   ]
  },
  {
   "cell_type": "code",
   "execution_count": 6,
   "id": "312b0640-dcdd-421e-b2b3-a1fa3b0d9ecb",
   "metadata": {},
   "outputs": [
    {
     "name": "stdout",
     "output_type": "stream",
     "text": [
      "[]\n"
     ]
    }
   ],
   "source": [
    "# clear() Method\n",
    "fruits = ['apple', 'banana', 'cherry', 'orange']\n",
    "fruits.clear()\n",
    "print(fruits)"
   ]
  },
  {
   "cell_type": "code",
   "execution_count": 8,
   "id": "3e163c45-dbb4-4813-9415-0798f1f5ca75",
   "metadata": {},
   "outputs": [
    {
     "name": "stdout",
     "output_type": "stream",
     "text": [
      "['apple', 'banana', 'cherry', 'orange']\n"
     ]
    }
   ],
   "source": [
    "# copy() Method\n",
    "fruits = ['apple', 'banana', 'cherry', 'orange']\n",
    "x = fruits.copy()\n",
    "print(x)"
   ]
  },
  {
   "cell_type": "code",
   "execution_count": 10,
   "id": "e6fe85c1-e722-45be-a539-5212306c7595",
   "metadata": {},
   "outputs": [
    {
     "name": "stdout",
     "output_type": "stream",
     "text": [
      "1\n"
     ]
    }
   ],
   "source": [
    "#count() Method\n",
    "fruits = ['apple', 'banana', 'cherry']\n",
    "x = fruits.count(\"cherry\")\n",
    "print(x)"
   ]
  },
  {
   "cell_type": "code",
   "execution_count": 9,
   "id": "1ed9c15e-f0b7-4bc7-a1e1-29c36a97db68",
   "metadata": {},
   "outputs": [
    {
     "name": "stdout",
     "output_type": "stream",
     "text": [
      "['apple', 'banana', 'cherry', 'Ford', 'BMW', 'Volvo']\n"
     ]
    }
   ],
   "source": [
    "#extend() Method\n",
    "fruits = ['apple', 'banana', 'cherry']\n",
    "cars = ['Ford', 'BMW', 'Volvo']\n",
    "fruits.extend(cars)\n",
    "print(fruits)"
   ]
  },
  {
   "cell_type": "code",
   "execution_count": 11,
   "id": "a775da5c-94d4-4d68-a2d2-e3853da993f5",
   "metadata": {},
   "outputs": [
    {
     "name": "stdout",
     "output_type": "stream",
     "text": [
      "2\n"
     ]
    }
   ],
   "source": [
    "# index() Method\n",
    "fruits = ['apple', 'banana', 'cherry']\n",
    "x = fruits.index(\"cherry\")\n",
    "print(x)"
   ]
  },
  {
   "cell_type": "code",
   "execution_count": 12,
   "id": "a4d6a565-b080-4119-8967-a765754d3040",
   "metadata": {},
   "outputs": [
    {
     "name": "stdout",
     "output_type": "stream",
     "text": [
      "['apple', 'orange', 'banana', 'cherry']\n"
     ]
    }
   ],
   "source": [
    "# insert() Method\n",
    "fruits = ['apple', 'banana', 'cherry']\n",
    "fruits.insert(1, \"orange\")\n",
    "print(fruits)"
   ]
  },
  {
   "cell_type": "code",
   "execution_count": 13,
   "id": "f108587b-58c3-423e-8ae1-c2e3538da176",
   "metadata": {},
   "outputs": [
    {
     "name": "stdout",
     "output_type": "stream",
     "text": [
      "['apple', 'cherry']\n"
     ]
    }
   ],
   "source": [
    "# pop() Method\n",
    "fruits = ['apple', 'banana', 'cherry']\n",
    "fruits.pop(1)\n",
    "print(fruits)"
   ]
  },
  {
   "cell_type": "code",
   "execution_count": 14,
   "id": "e65beb1f-2ad5-4307-a772-4c30b30299c5",
   "metadata": {},
   "outputs": [
    {
     "name": "stdout",
     "output_type": "stream",
     "text": [
      "['apple', 'cherry']\n"
     ]
    }
   ],
   "source": [
    "# remove() Method\n",
    "fruits = ['apple', 'banana', 'cherry']\n",
    "fruits.remove(\"banana\")\n",
    "print(fruits)"
   ]
  },
  {
   "cell_type": "code",
   "execution_count": 15,
   "id": "66a4f721-8fdb-4d58-b988-854512066ef9",
   "metadata": {},
   "outputs": [
    {
     "name": "stdout",
     "output_type": "stream",
     "text": [
      "['cherry', 'banana', 'apple']\n"
     ]
    }
   ],
   "source": [
    "# reverse() Method\n",
    "fruits = ['apple', 'banana', 'cherry']\n",
    "fruits.reverse()\n",
    "print(fruits)"
   ]
  },
  {
   "cell_type": "code",
   "execution_count": 16,
   "id": "929bd593-731c-4b21-8a0b-c8ab1be3ca2b",
   "metadata": {},
   "outputs": [
    {
     "name": "stdout",
     "output_type": "stream",
     "text": [
      "['BMW', 'Ford', 'Volvo']\n"
     ]
    }
   ],
   "source": [
    "# sort() Method\n",
    "cars = ['Ford', 'BMW', 'Volvo']\n",
    "cars.sort()\n",
    "print(cars)"
   ]
  },
  {
   "cell_type": "code",
   "execution_count": null,
   "id": "f2938db5-cf92-4dff-b75c-bb248066be9f",
   "metadata": {},
   "outputs": [],
   "source": []
  }
 ],
 "metadata": {
  "kernelspec": {
   "display_name": "Python 3 (ipykernel)",
   "language": "python",
   "name": "python3"
  },
  "language_info": {
   "codemirror_mode": {
    "name": "ipython",
    "version": 3
   },
   "file_extension": ".py",
   "mimetype": "text/x-python",
   "name": "python",
   "nbconvert_exporter": "python",
   "pygments_lexer": "ipython3",
   "version": "3.11.7"
  }
 },
 "nbformat": 4,
 "nbformat_minor": 5
}
