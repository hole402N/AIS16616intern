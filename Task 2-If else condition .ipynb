{
 "cells": [
  {
   "cell_type": "markdown",
   "id": "cc43996d-2fc1-4b77-aa01-89b671c04654",
   "metadata": {},
   "source": [
    "# If else condition"
   ]
  },
  {
   "cell_type": "markdown",
   "id": "9acc2b49-901f-4f78-84d9-e88c3711e4e9",
   "metadata": {},
   "source": [
    "An if statement can have an optional else statement.The else statement executes if the condition in the if statement evaluates to False."
   ]
  },
  {
   "cell_type": "raw",
   "id": "e8a0030c-6687-447c-b527-ae22b6f46644",
   "metadata": {},
   "source": [
    "# Basic Syntax of If Else Statement:\n",
    "  Generally, the basic syntax of if felse statements follows this pattern:\n",
    "  if (condition) {\n",
    "  // Code block to execute if condition is true\n",
    " } else {\n",
    " // Code block to execute if condition is false\n",
    " }\n",
    "\n",
    " In this syntax:\n",
    "\n",
    " The `if` keyword begins a conditional statement.\n",
    " The condition is enclosed in parentheses `()`.\n",
    " If the condition evaluates to true, the code block immediately following the `if` statement is executed.\n",
    " If the condition evaluates to false, the code block is executed in the `else` statement."
   ]
  },
  {
   "cell_type": "code",
   "execution_count": 1,
   "id": "93473002-d3f3-498d-8813-004693abc083",
   "metadata": {},
   "outputs": [
    {
     "name": "stdout",
     "output_type": "stream",
     "text": [
      "Number is positive.\n"
     ]
    }
   ],
   "source": [
    "# Example 1\n",
    "num = 10\n",
    "if num > 0:\n",
    "    print(\"Number is positive.\")\n",
    "else:\n",
    "    print(\"Number is non-positive.\")"
   ]
  },
  {
   "cell_type": "code",
   "execution_count": 16,
   "id": "4b732e45-c27f-4748-af86-3006154bf174",
   "metadata": {},
   "outputs": [
    {
     "name": "stdout",
     "output_type": "stream",
     "text": [
      "Number is positive\n"
     ]
    }
   ],
   "source": [
    "# Example 2\n",
    "number = 5\n",
    "if number >= 0:\n",
    "       print('Number is positive')\n",
    "else:\n",
    "    print('Number is negative')"
   ]
  },
  {
   "cell_type": "code",
   "execution_count": 3,
   "id": "7f9b6066-50a0-46a7-bf7a-b265b579a9f4",
   "metadata": {},
   "outputs": [
    {
     "name": "stdout",
     "output_type": "stream",
     "text": [
      "b is not greater than a\n"
     ]
    }
   ],
   "source": [
    "# Example 3\n",
    "a = 200\n",
    "b = 33\n",
    "if b > a:\n",
    "  print(\"b is greater than a\")\n",
    "else:\n",
    "  print(\"b is not greater than a\")\n"
   ]
  },
  {
   "cell_type": "code",
   "execution_count": 4,
   "id": "c274e7c9-debf-4f24-8437-38414e2c5987",
   "metadata": {},
   "outputs": [
    {
     "name": "stdout",
     "output_type": "stream",
     "text": [
      "a and b are not equal\n"
     ]
    }
   ],
   "source": [
    "# Examople 4\n",
    "a=45\n",
    "b=36\n",
    "if b==a:\n",
    "    print( \"a and b are equal\")\n",
    "else:\n",
    "    print(\"a and b are not equal\")"
   ]
  },
  {
   "cell_type": "code",
   "execution_count": 6,
   "id": "7abd566f-2639-4670-990b-a1c2c545b588",
   "metadata": {},
   "outputs": [
    {
     "name": "stdin",
     "output_type": "stream",
     "text": [
      "Enter a letter t\n"
     ]
    },
    {
     "name": "stdout",
     "output_type": "stream",
     "text": [
      "given letter is not from above vector\n"
     ]
    }
   ],
   "source": [
    "# Example 5\n",
    "x=['a','e','i','o','u']\n",
    "letter=str(input(\"Enter a letter\"))\n",
    "if letter in x:\n",
    "    print(\"given letter is from above vector\")\n",
    "else:\n",
    "    print(\"given letter is not from above vector\")\n"
   ]
  },
  {
   "cell_type": "code",
   "execution_count": 7,
   "id": "48d75970-7680-4abc-931f-8f79050e29ca",
   "metadata": {},
   "outputs": [
    {
     "name": "stdout",
     "output_type": "stream",
     "text": [
      "Both conditions are True\n"
     ]
    }
   ],
   "source": [
    "# Example 6\n",
    "a = 200\n",
    "b = 33\n",
    "c = 500\n",
    "if a > b and c > a:\n",
    "  print(\"Both conditions are True\")\n",
    "else :\n",
    "    print(\"Both conditions are not True\")"
   ]
  },
  {
   "cell_type": "code",
   "execution_count": 8,
   "id": "40c90e84-e2e0-449b-91bf-d3d1de4246b5",
   "metadata": {},
   "outputs": [
    {
     "name": "stdin",
     "output_type": "stream",
     "text": [
      "enter a mobile number: 7391816389\n"
     ]
    },
    {
     "name": "stdout",
     "output_type": "stream",
     "text": [
      "a valid mobile number\n"
     ]
    }
   ],
   "source": [
    "# Example 7\n",
    "no=input(\"enter a mobile number:\")\n",
    "if len(no)==10:\n",
    "    print (\"a valid mobile number\")\n",
    "else:\n",
    "    print (\"not a valid mobile number\")"
   ]
  },
  {
   "cell_type": "code",
   "execution_count": 17,
   "id": "8ca3c95d-21b6-4cd6-b585-00d447750214",
   "metadata": {},
   "outputs": [
    {
     "name": "stdin",
     "output_type": "stream",
     "text": [
      "enter the challan number 654677\n"
     ]
    },
    {
     "name": "stdout",
     "output_type": "stream",
     "text": [
      "invalid challan number\n"
     ]
    }
   ],
   "source": [
    "# Example 8\n",
    "challan =input(\"enter the challan number\")\n",
    "if len(challan)<=5:\n",
    "    print (\"a valid challan number\")\n",
    "else:\n",
    "    print (\"invalid challan number\")"
   ]
  },
  {
   "cell_type": "code",
   "execution_count": 14,
   "id": "17517d4a-4a0e-4927-8aa6-0595d4292e22",
   "metadata": {},
   "outputs": [
    {
     "name": "stdin",
     "output_type": "stream",
     "text": [
      "Enter a positive integer:  4\n"
     ]
    },
    {
     "name": "stdout",
     "output_type": "stream",
     "text": [
      "4 is not a prime number.\n"
     ]
    }
   ],
   "source": [
    "# Example 9\n",
    "def is_prime(number):\n",
    "    if number <= 1:\n",
    "        return False  \n",
    "    for i in range(2, int(number**0.5) + 1):\n",
    "        if number % i == 0:\n",
    "            return False  \n",
    "user_number = int(input(\"Enter a positive integer: \"))\n",
    "if is_prime(user_number):\n",
    "    print(f\"{user_number} is a prime number.\")\n",
    "else:\n",
    "    print(f\"{user_number} is not a prime number.\")\n"
   ]
  },
  {
   "cell_type": "code",
   "execution_count": 15,
   "id": "953926b1-7124-42d5-9d14-29327fdd3eeb",
   "metadata": {},
   "outputs": [
    {
     "name": "stdout",
     "output_type": "stream",
     "text": [
      "student fail\n"
     ]
    }
   ],
   "source": [
    "# Example 10\n",
    "marks=78\n",
    "if marks<=35:\n",
    "    print(\"student pass\")\n",
    "else:\n",
    "    print(\"student fail\")\n",
    "\n"
   ]
  },
  {
   "cell_type": "code",
   "execution_count": null,
   "id": "7879711a-2346-492c-9780-aa85f1d7cda1",
   "metadata": {},
   "outputs": [],
   "source": []
  }
 ],
 "metadata": {
  "kernelspec": {
   "display_name": "Python 3 (ipykernel)",
   "language": "python",
   "name": "python3"
  },
  "language_info": {
   "codemirror_mode": {
    "name": "ipython",
    "version": 3
   },
   "file_extension": ".py",
   "mimetype": "text/x-python",
   "name": "python",
   "nbconvert_exporter": "python",
   "pygments_lexer": "ipython3",
   "version": "3.11.7"
  }
 },
 "nbformat": 4,
 "nbformat_minor": 5
}
