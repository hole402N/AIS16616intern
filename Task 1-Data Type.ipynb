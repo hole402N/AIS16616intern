{
 "cells": [
  {
   "cell_type": "markdown",
   "id": "e8c2aca7-9cac-4955-9726-158e87833a1a",
   "metadata": {},
   "source": [
    "# Data Type"
   ]
  },
  {
   "cell_type": "raw",
   "id": "c0ab538b-45b3-47ea-b62f-c1995bad00f9",
   "metadata": {},
   "source": [
    "1] Immutable\n",
    "*  Numbers\n",
    "*  Strings\n",
    "*  Tuple"
   ]
  },
  {
   "cell_type": "raw",
   "id": "388c053f-0c5f-42f4-b9a3-5d97591c5e5a",
   "metadata": {},
   "source": [
    "2] Mutable\n",
    "*  List\n",
    "*  Set\n",
    "*  Dictionary"
   ]
  }
 ],
 "metadata": {
  "kernelspec": {
   "display_name": "Python 3 (ipykernel)",
   "language": "python",
   "name": "python3"
  },
  "language_info": {
   "codemirror_mode": {
    "name": "ipython",
    "version": 3
   },
   "file_extension": ".py",
   "mimetype": "text/x-python",
   "name": "python",
   "nbconvert_exporter": "python",
   "pygments_lexer": "ipython3",
   "version": "3.11.7"
  }
 },
 "nbformat": 4,
 "nbformat_minor": 5
}
