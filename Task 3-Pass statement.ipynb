{
 "cells": [
  {
   "cell_type": "markdown",
   "id": "b3855adb-2672-45ac-9539-501dd3a5c092",
   "metadata": {},
   "source": [
    "# Pass Statement"
   ]
  },
  {
   "cell_type": "markdown",
   "id": "9debd704-4617-4e68-bc5f-cf98808a170e",
   "metadata": {},
   "source": [
    "* The Python pass statement is a null statement. But the difference between pass and comment is that comment is ignored by the interpreter whereas \n",
    "   pass is not ignored. "
   ]
  },
  {
   "cell_type": "raw",
   "id": "6e410832-b9c3-4c98-9253-dfc4568ba086",
   "metadata": {},
   "source": [
    "* The Syntax of the pass statement\n",
    "  pass"
   ]
  },
  {
   "cell_type": "raw",
   "id": "41701a66-fca1-4663-90c6-6d25d3f28721",
   "metadata": {},
   "source": [
    "* What is pass statement in Python?\n",
    "  When the user does not know what code to write, So user simply places a pass at that line. Sometimes, the pass is used when theuser doesn’t want\n",
    "  any code to execute. So users can simply place a pass where empty code is not allowed, like in loops, function definitions, class definitions, or \n",
    "  in if statements. So using a pass statement user avoids this error."
   ]
  },
  {
   "cell_type": "raw",
   "id": "dcdc69bc-ab4e-4651-b23a-31480620d899",
   "metadata": {},
   "source": [
    "* Why Python Needs “pass” Statement?\n",
    "  If we do not use pass or simply enter a comment or a blank here, we will receive an IndentationError error message."
   ]
  },
  {
   "cell_type": "code",
   "execution_count": 4,
   "id": "9b1f6509-2326-4070-bd1f-260a7e3bba0f",
   "metadata": {},
   "outputs": [
    {
     "name": "stdout",
     "output_type": "stream",
     "text": [
      "b\n",
      "c\n",
      "d\n"
     ]
    }
   ],
   "source": [
    "# Example 1\n",
    "li =['a', 'b', 'c', 'd']\n",
    " \n",
    "for i in li:\n",
    "    if(i =='a'):\n",
    "        pass\n",
    "    else:\n",
    "        print(i)"
   ]
  },
  {
   "cell_type": "code",
   "execution_count": 6,
   "id": "76fa8f9b-918c-42d3-877a-a59a7b789e6b",
   "metadata": {},
   "outputs": [
    {
     "name": "stdout",
     "output_type": "stream",
     "text": [
      "75\n",
      "67\n",
      "fail\n",
      "20\n",
      "fail\n",
      "25\n"
     ]
    }
   ],
   "source": [
    "M=[75,67,20,25]\n",
    "for i in M:\n",
    "    if i<35:\n",
    "        print(\"fail\")\n",
    "        pass\n",
    "    print(i)"
   ]
  },
  {
   "cell_type": "code",
   "execution_count": null,
   "id": "20730023-d6ad-4cb1-8498-29ae4f38199b",
   "metadata": {},
   "outputs": [],
   "source": []
  }
 ],
 "metadata": {
  "kernelspec": {
   "display_name": "Python 3 (ipykernel)",
   "language": "python",
   "name": "python3"
  },
  "language_info": {
   "codemirror_mode": {
    "name": "ipython",
    "version": 3
   },
   "file_extension": ".py",
   "mimetype": "text/x-python",
   "name": "python",
   "nbconvert_exporter": "python",
   "pygments_lexer": "ipython3",
   "version": "3.11.7"
  }
 },
 "nbformat": 4,
 "nbformat_minor": 5
}
