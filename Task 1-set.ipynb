{
 "cells": [
  {
   "cell_type": "markdown",
   "id": "9096b594-078a-4543-8168-749956a647f4",
   "metadata": {},
   "source": [
    "# Mutable"
   ]
  },
  {
   "cell_type": "markdown",
   "id": "b6c093d5-22fd-4318-bcc2-1eb69d67ce0b",
   "metadata": {},
   "source": [
    "#  Python Set"
   ]
  },
  {
   "cell_type": "markdown",
   "id": "e54cd3c4-e2b9-4973-bd7a-2e75dc29b5af",
   "metadata": {},
   "source": [
    " * Sets are used to store multiple items in a single variable.\n",
    " * Set is one of 4 built-in data types in Python used to store collections of data, the other 3 are List, Tuple, and Dictionary, all with different        qualities and usage.\n",
    " *A set is a collection which is unordered, unchangeable*, and unindexed."
   ]
  },
  {
   "cell_type": "code",
   "execution_count": 5,
   "id": "9bdf2ee8-7136-40df-bb37-72411b9fd215",
   "metadata": {},
   "outputs": [
    {
     "name": "stdout",
     "output_type": "stream",
     "text": [
      "{'banana', 'apple', 'cherry'}\n"
     ]
    }
   ],
   "source": [
    "# Sets are written with curly brackets.\n",
    "#Create a Set:\n",
    "thisset = {\"apple\", \"banana\", \"cherry\"}\n",
    "print(thisset)"
   ]
  },
  {
   "cell_type": "raw",
   "id": "66c6ab9b-62de-4d81-86f0-4ca32627e71c",
   "metadata": {},
   "source": [
    "#Set Items\n",
    " Set items are unordered, unchangeable, and do not allow duplicate values."
   ]
  },
  {
   "cell_type": "raw",
   "id": "560319bd-fc97-49b3-a9c8-a2ede98706db",
   "metadata": {},
   "source": [
    "# Unordered\n",
    "  Unordered means that the items in a set do not have a defined order.\n",
    " Set items can appear in a different order every time you use them, and cannot be referred to by index or key."
   ]
  },
  {
   "cell_type": "raw",
   "id": "c4c858a5-256f-4349-a906-cea8fd254ba5",
   "metadata": {},
   "source": [
    "# Unchangeable\n",
    "  Set items are unchangeable, meaning that we cannot change the items after the set has been created.\n",
    "  Once a set is created, you cannot change its items, but you can remove items and add new items."
   ]
  },
  {
   "cell_type": "raw",
   "id": "d3428e9d-f805-445f-9804-5bededbb3a39",
   "metadata": {},
   "source": [
    "# Duplicates Not Allowed\n",
    "  Sets cannot have two items with the same value."
   ]
  },
  {
   "cell_type": "code",
   "execution_count": 6,
   "id": "43b3cdbd-e999-432e-8fdd-cbd2d665952b",
   "metadata": {},
   "outputs": [
    {
     "name": "stdout",
     "output_type": "stream",
     "text": [
      "{'banana', 'apple', 'cherry'}\n"
     ]
    }
   ],
   "source": [
    "# Duplicate values will be ignored:\n",
    "thisset = {\"apple\", \"banana\", \"cherry\", \"apple\"}\n",
    "print(thisset)"
   ]
  },
  {
   "cell_type": "raw",
   "id": "f7f8aa45-7620-4518-9fd7-113d1833ac21",
   "metadata": {},
   "source": [
    "#Note: The values True and 1 are considered the same value in sets, and are treated as duplicates:"
   ]
  },
  {
   "cell_type": "code",
   "execution_count": 7,
   "id": "a17e5d55-5950-432e-b443-d1c0f434e87a",
   "metadata": {},
   "outputs": [
    {
     "name": "stdout",
     "output_type": "stream",
     "text": [
      "{True, 2, 'apple', 'cherry', 'banana'}\n"
     ]
    }
   ],
   "source": [
    "# True and 1 is considered the same value:\n",
    "thisset = {\"apple\", \"banana\", \"cherry\", True, 1, 2}\n",
    "print(thisset)"
   ]
  },
  {
   "cell_type": "raw",
   "id": "4347d5d0-f3dc-4c01-9f15-b987ce4d38cb",
   "metadata": {},
   "source": [
    "# Note: The values False and 0 are considered the same value in sets, and are treated as duplicates:"
   ]
  },
  {
   "cell_type": "code",
   "execution_count": 8,
   "id": "c06d368a-86b4-4951-ae76-6f09f3a47992",
   "metadata": {},
   "outputs": [
    {
     "name": "stdout",
     "output_type": "stream",
     "text": [
      "{False, True, 'apple', 'cherry', 'banana'}\n"
     ]
    }
   ],
   "source": [
    "# False and 0 is considered the same value:\n",
    "thisset = {\"apple\", \"banana\", \"cherry\", False, True, 0}\n",
    "print(thisset)"
   ]
  },
  {
   "cell_type": "raw",
   "id": "25167a5c-275b-4564-a9c4-42f5a5dcba52",
   "metadata": {},
   "source": [
    "# Get the Length of a Set\n",
    "  To determine how many items a set has, use the len() function"
   ]
  },
  {
   "cell_type": "code",
   "execution_count": 9,
   "id": "cdd02b98-2b57-40b9-9b51-9c488feaeb09",
   "metadata": {},
   "outputs": [
    {
     "name": "stdout",
     "output_type": "stream",
     "text": [
      "3\n"
     ]
    }
   ],
   "source": [
    "#Get the number of items in a set:\n",
    "thisset = {\"apple\", \"banana\", \"cherry\"}\n",
    "print(len(thisset))"
   ]
  },
  {
   "cell_type": "raw",
   "id": "7038b2dd-e8f6-4265-b7bd-eeb2134d6ee0",
   "metadata": {},
   "source": [
    "# Set Items - Data Types\n",
    " Set items can be of any data type:"
   ]
  },
  {
   "cell_type": "code",
   "execution_count": 11,
   "id": "f2a595b4-dd27-4120-8f6c-980db881d648",
   "metadata": {},
   "outputs": [
    {
     "name": "stdout",
     "output_type": "stream",
     "text": [
      "{True, 34, 40, 'male', 'abc'}\n"
     ]
    }
   ],
   "source": [
    "# A set can contain different data types:\n",
    "# A set with strings, integers and boolean values:\n",
    "set1 = {\"abc\", 34, True, 40, \"male\"}\n",
    "print(set1)"
   ]
  },
  {
   "cell_type": "raw",
   "id": "c146bc1b-b7d2-4d0c-9acd-6d2245a0678a",
   "metadata": {},
   "source": [
    "# type()\n",
    "  From Python's perspective, sets are defined as objects with the data type 'set':\n",
    "  <class 'set'>"
   ]
  },
  {
   "cell_type": "code",
   "execution_count": 12,
   "id": "44798842-b42a-4810-b61a-7dc8ec39a333",
   "metadata": {},
   "outputs": [
    {
     "name": "stdout",
     "output_type": "stream",
     "text": [
      "<class 'set'>\n"
     ]
    },
    {
     "data": {
      "text/plain": [
       "\u001b[1;31mInit signature:\u001b[0m \u001b[0mset\u001b[0m\u001b[1;33m(\u001b[0m\u001b[0mself\u001b[0m\u001b[1;33m,\u001b[0m \u001b[1;33m/\u001b[0m\u001b[1;33m,\u001b[0m \u001b[1;33m*\u001b[0m\u001b[0margs\u001b[0m\u001b[1;33m,\u001b[0m \u001b[1;33m**\u001b[0m\u001b[0mkwargs\u001b[0m\u001b[1;33m)\u001b[0m\u001b[1;33m\u001b[0m\u001b[1;33m\u001b[0m\u001b[0m\n",
       "\u001b[1;31mDocstring:\u001b[0m     \n",
       "set() -> new empty set object\n",
       "set(iterable) -> new set object\n",
       "\n",
       "Build an unordered collection of unique elements.\n",
       "\u001b[1;31mType:\u001b[0m           type\n",
       "\u001b[1;31mSubclasses:\u001b[0m     "
      ]
     },
     "metadata": {},
     "output_type": "display_data"
    }
   ],
   "source": [
    "* What is the data type of a set?\n",
    "myset = {\"apple\", \"banana\", \"cherry\"}\n",
    "print(type(myset))"
   ]
  },
  {
   "cell_type": "raw",
   "id": "4e088252-f590-4b2d-adfc-4f3ff328e7e8",
   "metadata": {},
   "source": [
    "# The set() Constructor\n",
    "  It is also possible to use the set() constructor to make a set."
   ]
  },
  {
   "cell_type": "code",
   "execution_count": 13,
   "id": "65b91f40-f5d2-4830-a03f-d33853deb180",
   "metadata": {},
   "outputs": [
    {
     "name": "stdout",
     "output_type": "stream",
     "text": [
      "{'banana', 'apple', 'cherry'}\n"
     ]
    }
   ],
   "source": [
    "# Using the set() constructor to make a set:\n",
    "thisset = set((\"apple\", \"banana\", \"cherry\")) # note the double round-brackets\n",
    "print(thisset)"
   ]
  },
  {
   "cell_type": "markdown",
   "id": "f7ec579d-5889-4a24-b0db-582c2c17bea4",
   "metadata": {},
   "source": [
    "# List of method"
   ]
  },
  {
   "cell_type": "code",
   "execution_count": null,
   "id": "2a72b0ac-95d4-471a-a042-40cba8c45a7f",
   "metadata": {},
   "outputs": [],
   "source": [
    "   Method\t                    Shortcut\t                                Description\n",
    "   add()\t \t                                                Adds an element to the set\n",
    "   clear()\t \t                                                Removes all the elements from the set\n",
    "   copy()\t \t                                                Returns a copy of the set\n",
    "   difference()\t              -\t                                Returns a set containing the difference between two or more sets\n",
    "   difference_update()\t     -=\t                                Removes the items in this set that are also included in another, specified set\n",
    "   discard()\t \t                                            Remove the specified item\n",
    "   intersection()\t          &\t                                Returns a set, that is the intersection of two other sets\n",
    "   intersection_update()\t  &=\t                            Removes the items in this set that are not present in other, specified set(s)\n",
    "   isdisjoint()\t \t                                            Returns whether two sets have a intersection or not\n",
    "   issubset()\t              <=\t                            Returns whether another set contains this set or not\n",
    " \t                          <\t                                Returns whether all items in this set is present in other, specified set(s)\n",
    "   issuperset()\t              >=\t                            Returns whether this set contains another set or not\n",
    " \t                          >\t                                Returns whether all items in other, specified set(s) is present in this set\n",
    "   pop()\t \t                                                Removes an element from the set\n",
    "   remove()\t \t                                                Removes the specified element\n",
    "   symmetric_difference()\t  ^\t                                Returns a set with the symmetric differences of two sets\n",
    "   symmetric_difference_update()\t^=\t                        Inserts the symmetric differences from this set and another\n",
    "   union()\t                  |\t                                Return a set containing the union of sets\n",
    "   update()\t                  |=\t                            Update the set with the union of this set and others\n",
    "\n",
    "\n"
   ]
  },
  {
   "cell_type": "code",
   "execution_count": 4,
   "id": "8d17cc83-c7a8-4d03-8af6-21dd1b345ba2",
   "metadata": {},
   "outputs": [
    {
     "name": "stdout",
     "output_type": "stream",
     "text": [
      "{'cherry', 'orange', 'banana', 'apple'}\n"
     ]
    }
   ],
   "source": [
    "# add() Method:\n",
    "fruits = {\"apple\", \"banana\", \"cherry\"}\n",
    "fruits.add(\"orange\")\n",
    "print(fruits)"
   ]
  },
  {
   "cell_type": "code",
   "execution_count": 2,
   "id": "d6d6e96e-85ea-4d9e-ac1e-71c724329a2e",
   "metadata": {},
   "outputs": [
    {
     "name": "stdout",
     "output_type": "stream",
     "text": [
      "set()\n"
     ]
    }
   ],
   "source": [
    "#  clear() Method:\n",
    "fruits = {\"apple\", \"banana\", \"cherry\"}\n",
    "fruits.clear()\n",
    "print(fruits)"
   ]
  },
  {
   "cell_type": "code",
   "execution_count": 3,
   "id": "0e30caee-c52e-4223-b7b5-d811680b4c0c",
   "metadata": {},
   "outputs": [
    {
     "name": "stdout",
     "output_type": "stream",
     "text": [
      "{'apple', 'banana', 'cherry'}\n"
     ]
    }
   ],
   "source": [
    "# copy() Method:\n",
    "fruits = {\"apple\", \"banana\", \"cherry\"}\n",
    "x = fruits.copy()\n",
    "print(x)"
   ]
  },
  {
   "cell_type": "code",
   "execution_count": 5,
   "id": "7ec88349-9d5f-44a5-9f24-06e29d2b8967",
   "metadata": {},
   "outputs": [
    {
     "name": "stdout",
     "output_type": "stream",
     "text": [
      "{'banana', 'cherry'}\n"
     ]
    }
   ],
   "source": [
    "# difference() Method\n",
    "x = {\"apple\", \"banana\", \"cherry\"}\n",
    "y = {\"google\", \"microsoft\", \"apple\"}\n",
    "z = x.difference(y)\n",
    "print(z)"
   ]
  },
  {
   "cell_type": "code",
   "execution_count": 6,
   "id": "feb750ac-2431-43b2-be46-0560e9040541",
   "metadata": {},
   "outputs": [
    {
     "name": "stdout",
     "output_type": "stream",
     "text": [
      "{'cherry', 'banana'}\n"
     ]
    }
   ],
   "source": [
    "# difference_update() Method:\n",
    "x = {\"apple\", \"banana\", \"cherry\"}\n",
    "y = {\"google\", \"microsoft\", \"apple\"}\n",
    "x.difference_update(y)\n",
    "print(x)"
   ]
  },
  {
   "cell_type": "code",
   "execution_count": 7,
   "id": "f1fd95d7-3d6e-493b-9a49-54dc255c3c72",
   "metadata": {},
   "outputs": [
    {
     "name": "stdout",
     "output_type": "stream",
     "text": [
      "{'cherry', 'apple'}\n"
     ]
    }
   ],
   "source": [
    "# discard() Method:\n",
    "fruits = {\"apple\", \"banana\", \"cherry\"}\n",
    "fruits.discard(\"banana\")\n",
    "print(fruits)"
   ]
  },
  {
   "cell_type": "code",
   "execution_count": 8,
   "id": "b7589728-1822-4b91-82b4-e32a8e13e0ef",
   "metadata": {},
   "outputs": [
    {
     "name": "stdout",
     "output_type": "stream",
     "text": [
      "{'apple'}\n"
     ]
    }
   ],
   "source": [
    "# intersection() Method:\n",
    "x = {\"apple\", \"banana\", \"cherry\"}\n",
    "y = {\"google\", \"microsoft\", \"apple\"}\n",
    "z = x.intersection(y)\n",
    "print(z)"
   ]
  },
  {
   "cell_type": "code",
   "execution_count": 9,
   "id": "ec5032c0-1e7e-4a6e-91b8-8383c167bd99",
   "metadata": {},
   "outputs": [
    {
     "name": "stdout",
     "output_type": "stream",
     "text": [
      "{'apple'}\n"
     ]
    }
   ],
   "source": [
    "# intersection_update() Method:\n",
    "x = {\"apple\", \"banana\", \"cherry\"}\n",
    "y = {\"google\", \"microsoft\", \"apple\"}\n",
    "x.intersection_update(y)\n",
    "print(x)"
   ]
  },
  {
   "cell_type": "code",
   "execution_count": 10,
   "id": "9f957173-36cd-477b-9e1e-43de2f2e677c",
   "metadata": {},
   "outputs": [
    {
     "name": "stdout",
     "output_type": "stream",
     "text": [
      "True\n"
     ]
    }
   ],
   "source": [
    "# disjoint() Method:\n",
    "x = {\"apple\", \"banana\", \"cherry\"}\n",
    "y = {\"google\", \"microsoft\", \"facebook\"}\n",
    "z = x.isdisjoint(y)\n",
    "print(z)"
   ]
  },
  {
   "cell_type": "code",
   "execution_count": 11,
   "id": "f012eaec-6579-413c-bc36-3cecad81ea45",
   "metadata": {},
   "outputs": [
    {
     "name": "stdout",
     "output_type": "stream",
     "text": [
      "True\n"
     ]
    }
   ],
   "source": [
    "# issubset() Method\n",
    "x = {\"a\", \"b\", \"c\"}\n",
    "y = {\"f\", \"e\", \"d\", \"c\", \"b\", \"a\"}\n",
    "z = x <= y\n",
    "print(z)"
   ]
  },
  {
   "cell_type": "code",
   "execution_count": 12,
   "id": "e8e4930d-fb11-4f40-bb52-396c286cb2a6",
   "metadata": {},
   "outputs": [
    {
     "name": "stdout",
     "output_type": "stream",
     "text": [
      "True\n"
     ]
    }
   ],
   "source": [
    "# issuperset() Method\n",
    "x = {\"f\", \"e\", \"d\", \"c\", \"b\", \"a\"}\n",
    "y = {\"a\", \"b\", \"c\"}\n",
    "z = x >= y\n",
    "print(z)"
   ]
  },
  {
   "cell_type": "code",
   "execution_count": 13,
   "id": "12fb324b-ea86-4590-8572-eb00a1126f6f",
   "metadata": {},
   "outputs": [
    {
     "name": "stdout",
     "output_type": "stream",
     "text": [
      "{'banana', 'apple'}\n"
     ]
    }
   ],
   "source": [
    "# pop() Method:\n",
    "fruits = {\"apple\", \"banana\", \"cherry\"}\n",
    "fruits.pop()\n",
    "print(fruits)"
   ]
  },
  {
   "cell_type": "code",
   "execution_count": 16,
   "id": "eddcd995-de41-4930-9d5c-d2c8cdbe1613",
   "metadata": {},
   "outputs": [
    {
     "name": "stdout",
     "output_type": "stream",
     "text": [
      "{'cherry', 'apple'}\n"
     ]
    }
   ],
   "source": [
    "# remove() Method:\n",
    "fruits = {\"apple\", \"banana\", \"cherry\"}\n",
    "fruits.remove(\"banana\")\n",
    "print(fruits)"
   ]
  },
  {
   "cell_type": "code",
   "execution_count": 18,
   "id": "dbb2f7d2-13f4-4f76-b7f7-36b8a79b7fb6",
   "metadata": {},
   "outputs": [
    {
     "name": "stdout",
     "output_type": "stream",
     "text": [
      "{'microsoft', 'google', 'banana', 'cherry'}\n"
     ]
    }
   ],
   "source": [
    " # symmetric_difference() Method:\n",
    "x = {\"apple\", \"banana\", \"cherry\"}\n",
    "y = {\"google\", \"microsoft\", \"apple\"}\n",
    "z = x.symmetric_difference(y)\n",
    "print(z)"
   ]
  },
  {
   "cell_type": "code",
   "execution_count": 19,
   "id": "9767ae10-ba40-4924-b20b-a18934af64bb",
   "metadata": {},
   "outputs": [
    {
     "name": "stdout",
     "output_type": "stream",
     "text": [
      "{'google', 'apple', 'microsoft', 'banana', 'cherry'}\n"
     ]
    }
   ],
   "source": [
    "# union() Method:\n",
    "x = {\"apple\", \"banana\", \"cherry\"}\n",
    "y = {\"google\", \"microsoft\", \"apple\"}\n",
    "z = x.union(y)\n",
    "print(z)"
   ]
  },
  {
   "cell_type": "code",
   "execution_count": 20,
   "id": "0cc2b04a-684c-458d-82cc-4514c9f3f54d",
   "metadata": {},
   "outputs": [
    {
     "name": "stdout",
     "output_type": "stream",
     "text": [
      "{'google', 'apple', 'microsoft', 'banana', 'cherry'}\n"
     ]
    }
   ],
   "source": [
    "# update() Method:\n",
    "x = {\"apple\", \"banana\", \"cherry\"}\n",
    "y = {\"google\", \"microsoft\", \"apple\"}\n",
    "x.update(y)\n",
    "print(x)"
   ]
  },
  {
   "cell_type": "code",
   "execution_count": null,
   "id": "0e5a53d9-2b0c-4c37-951f-35fb6abae9f9",
   "metadata": {},
   "outputs": [],
   "source": []
  }
 ],
 "metadata": {
  "kernelspec": {
   "display_name": "Python 3 (ipykernel)",
   "language": "python",
   "name": "python3"
  },
  "language_info": {
   "codemirror_mode": {
    "name": "ipython",
    "version": 3
   },
   "file_extension": ".py",
   "mimetype": "text/x-python",
   "name": "python",
   "nbconvert_exporter": "python",
   "pygments_lexer": "ipython3",
   "version": "3.11.7"
  }
 },
 "nbformat": 4,
 "nbformat_minor": 5
}
