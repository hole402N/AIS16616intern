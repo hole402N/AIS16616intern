{
 "cells": [
  {
   "cell_type": "markdown",
   "id": "1d482ea8-a626-46ec-9061-75bd4e2bd14a",
   "metadata": {},
   "source": [
    "# Data Frame"
   ]
  },
  {
   "cell_type": "markdown",
   "id": "93d834b2-9933-41c1-9975-b10d18c18dcc",
   "metadata": {},
   "source": [
    "# DataFrame Creation"
   ]
  },
  {
   "cell_type": "markdown",
   "id": "434bccd9-3284-4a08-b515-b8d33fc85b2c",
   "metadata": {},
   "source": [
    "* using a matrix (2D list)"
   ]
  },
  {
   "cell_type": "code",
   "execution_count": 1,
   "id": "cb4b76fc-4c8a-49d9-a07f-e21fd9e7bc39",
   "metadata": {},
   "outputs": [
    {
     "name": "stdout",
     "output_type": "stream",
     "text": [
      "      Name  Age         City\n",
      "0    Alice   25     New York\n",
      "1      Bob   30  Los Angeles\n",
      "2  Charlie   35      Chicago\n"
     ]
    }
   ],
   "source": [
    "import pandas as pd\n",
    "# Create a matrix (2D list) with data\n",
    "data_matrix = [\n",
    "    ['Alice', 25, 'New York'],\n",
    "    ['Bob', 30, 'Los Angeles'],\n",
    "    ['Charlie', 35, 'Chicago']\n",
    "]\n",
    "\n",
    "# Define column names\n",
    "columns = ['Name', 'Age', 'City']\n",
    "\n",
    "# Create a DataFrame using the matrix\n",
    "df_matrix = pd.DataFrame(data_matrix, columns=columns)\n",
    "\n",
    "# Display the DataFrame\n",
    "print(df_matrix)"
   ]
  },
  {
   "cell_type": "markdown",
   "id": "3ed3e509-4be4-4986-b6e8-6eae440544dc",
   "metadata": {},
   "source": [
    "* using a dictionary"
   ]
  },
  {
   "cell_type": "code",
   "execution_count": 2,
   "id": "c858b31b-c22a-4178-a0ce-908630b31836",
   "metadata": {},
   "outputs": [
    {
     "name": "stdout",
     "output_type": "stream",
     "text": [
      "      Name  Age         City\n",
      "0    Alice   25     New York\n",
      "1      Bob   30  Los Angeles\n",
      "2  Charlie   35      Chicago\n"
     ]
    }
   ],
   "source": [
    "import pandas as pd\n",
    "# Create a dictionary with data\n",
    "data_dict = {\n",
    "    'Name': ['Alice', 'Bob', 'Charlie'],\n",
    "    'Age': [25, 30, 35],\n",
    "    'City': ['New York', 'Los Angeles', 'Chicago']\n",
    "}\n",
    "\n",
    "# Create a DataFrame using the dictionary\n",
    "df_dict = pd.DataFrame(data_dict)\n",
    "\n",
    "# Display the DataFrame\n",
    "print(df_dict)"
   ]
  },
  {
   "cell_type": "markdown",
   "id": "be779a66-de19-4aa4-928c-f4655643441b",
   "metadata": {},
   "source": [
    "* By read.csv"
   ]
  },
  {
   "cell_type": "code",
   "execution_count": 3,
   "id": "3c3bf148-0534-46a7-819d-9b9f9c42696c",
   "metadata": {},
   "outputs": [
    {
     "name": "stdout",
     "output_type": "stream",
     "text": [
      "    Name  Age         City\n",
      "0  Alice   25     New York\n",
      "1    Bob   30  Los Angeles\n",
      "2  Nisha   35      Chicago\n"
     ]
    }
   ],
   "source": [
    "import pandas as pd\n",
    "# Read a CSV file into a DataFrame\n",
    "df_csv = pd.read_csv(\"C:/Users/Nisha/OneDrive/Desktop/Book.csv\")\n",
    "# Display the DataFrame\n",
    "print(df_csv)"
   ]
  },
  {
   "cell_type": "markdown",
   "id": "0ea2ee01-1b78-41e7-9777-c74874ba0957",
   "metadata": {},
   "source": [
    "* xlsx file"
   ]
  },
  {
   "cell_type": "code",
   "execution_count": 7,
   "id": "92dafe88-1cee-49e5-83da-78f22ccb3d77",
   "metadata": {},
   "outputs": [
    {
     "name": "stdout",
     "output_type": "stream",
     "text": [
      "    Name  Age         City\n",
      "0  Alice   25     New York\n",
      "1    Bob   30  Los Angeles\n",
      "2  Nisha   35      Chicago\n"
     ]
    }
   ],
   "source": [
    "import pandas as pd\n",
    "# Read an Excel file into a DataFrame\n",
    "df_excel = pd.read_excel(\"C:/Users/Nisha/OneDrive/Desktop/BooK.xlsx\", sheet_name=\"BooK\")\n",
    "# Display the DataFrame\n",
    "print(df_excel)"
   ]
  },
  {
   "cell_type": "code",
   "execution_count": null,
   "id": "96f5eb0a-6043-4b35-97bd-b6419a0f3a94",
   "metadata": {},
   "outputs": [],
   "source": []
  }
 ],
 "metadata": {
  "kernelspec": {
   "display_name": "Python 3 (ipykernel)",
   "language": "python",
   "name": "python3"
  },
  "language_info": {
   "codemirror_mode": {
    "name": "ipython",
    "version": 3
   },
   "file_extension": ".py",
   "mimetype": "text/x-python",
   "name": "python",
   "nbconvert_exporter": "python",
   "pygments_lexer": "ipython3",
   "version": "3.11.7"
  }
 },
 "nbformat": 4,
 "nbformat_minor": 5
}
