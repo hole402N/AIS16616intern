{
 "cells": [
  {
   "cell_type": "markdown",
   "id": "1c5909de-255c-4fb8-a01f-ddaaa5e7eee9",
   "metadata": {},
   "source": [
    "# Data Frame"
   ]
  },
  {
   "cell_type": "code",
   "execution_count": 5,
   "id": "4cd1373c-fbd0-4ea8-8ecf-85ee3a5d3230",
   "metadata": {},
   "outputs": [
    {
     "name": "stdout",
     "output_type": "stream",
     "text": [
      "      Name  Age         City\n",
      "0    Alice   24     New York\n",
      "1      Bob   27  Los Angeles\n",
      "2  Charlie   22      Chicago\n"
     ]
    }
   ],
   "source": [
    "import pandas as pd\n",
    "data = {\n",
    "    'Name': ['Alice', 'Bob', 'Charlie'],\n",
    "    'Age': [24, 27, 22],\n",
    "    'City': ['New York', 'Los Angeles', 'Chicago']\n",
    "    \n",
    "}\n",
    "df = pd.DataFrame(data)\n",
    "print(df)"
   ]
  },
  {
   "cell_type": "code",
   "execution_count": 6,
   "id": "7e6da2ff-3e4c-4afe-83fc-8e0d3432a337",
   "metadata": {},
   "outputs": [
    {
     "name": "stdout",
     "output_type": "stream",
     "text": [
      "             Age\n",
      "count   3.000000\n",
      "mean   24.333333\n",
      "std     2.516611\n",
      "min    22.000000\n",
      "25%    23.000000\n",
      "50%    24.000000\n",
      "75%    25.500000\n",
      "max    27.000000\n"
     ]
    }
   ],
   "source": [
    "# Describe: To get statistical summary of numeric columns.\n",
    "print(df.describe())"
   ]
  },
  {
   "cell_type": "code",
   "execution_count": 8,
   "id": "2e8ff5af-2e74-4a9b-a5c3-885b469fed93",
   "metadata": {},
   "outputs": [
    {
     "name": "stdout",
     "output_type": "stream",
     "text": [
      "      Name  Age         City\n",
      "0    Alice   25     New York\n",
      "1      Bob   28  Los Angeles\n",
      "2  Charlie   23      Chicago\n"
     ]
    }
   ],
   "source": [
    "# Apply Function:\n",
    "df['Age'] = df['Age'].apply(lambda x: x + 1)\n",
    "print(df)"
   ]
  },
  {
   "cell_type": "code",
   "execution_count": 10,
   "id": "650e3cb5-d0bf-43c2-8e2a-841cceebf996",
   "metadata": {},
   "outputs": [
    {
     "name": "stdout",
     "output_type": "stream",
     "text": [
      "Category\n",
      "A    3\n",
      "B    3\n",
      "C    1\n",
      "Name: count, dtype: int64\n"
     ]
    }
   ],
   "source": [
    "# value_counts()\n",
    "import pandas as pd\n",
    "# Example DataFrame\n",
    "data = {'Category': ['A', 'B', 'A', 'A', 'C', 'B', 'B']}\n",
    "df = pd.DataFrame(data)\n",
    "# Count the occurrences of each category\n",
    "print(df['Category'].value_counts())"
   ]
  },
  {
   "cell_type": "code",
   "execution_count": 11,
   "id": "95591eb1-bbdc-4be0-a6d0-0769c9a0ef47",
   "metadata": {},
   "outputs": [
    {
     "name": "stdout",
     "output_type": "stream",
     "text": [
      "['A' 'B' 'C']\n"
     ]
    }
   ],
   "source": [
    "# Get unique categories\n",
    "print(df['Category'].unique())"
   ]
  },
  {
   "cell_type": "code",
   "execution_count": 12,
   "id": "26e3d29f-daf6-4e83-bcf7-ddc8ef57d1ff",
   "metadata": {},
   "outputs": [
    {
     "name": "stdout",
     "output_type": "stream",
     "text": [
      "3\n"
     ]
    }
   ],
   "source": [
    "# Count the number of unique categories\n",
    "print(df['Category'].nunique())"
   ]
  },
  {
   "cell_type": "code",
   "execution_count": 3,
   "id": "c2377022-83c6-4c1b-90c7-4d9cc9a12cc1",
   "metadata": {},
   "outputs": [
    {
     "name": "stdout",
     "output_type": "stream",
     "text": [
      "Original DataFrame:\n",
      "    A  B       C   D\n",
      "0  1  5   apple  10\n",
      "1  2  6  banana  20\n",
      "2  2  6   apple  30\n",
      "3  3  6  banana  40\n",
      "4  4  7  banana  50\n",
      "5  4  8   apple  60\n",
      "6  4  9  banana  70\n"
     ]
    }
   ],
   "source": [
    "import pandas as pd\n",
    "# Sample DataFrame\n",
    "data = {\n",
    "    'A': [1, 2, 2, 3, 4, 4, 4],\n",
    "    'B': [5, 6, 6, 6, 7, 8, 9],\n",
    "    'C': ['apple', 'banana', 'apple', 'banana', 'banana', 'apple', 'banana'],\n",
    "    'D': [10, 20, 30, 40, 50, 60, 70]\n",
    "}\n",
    "df = pd.DataFrame(data)\n",
    "print(\"Original DataFrame:\\n\", df)"
   ]
  },
  {
   "cell_type": "raw",
   "id": "6b8c9207-0129-4dcb-9c1d-4215ae14fd56",
   "metadata": {},
   "source": [
    "# Sorting"
   ]
  },
  {
   "cell_type": "code",
   "execution_count": 4,
   "id": "5295a6c9-2e5c-455b-b0d0-cf0c2309835a",
   "metadata": {},
   "outputs": [
    {
     "name": "stdout",
     "output_type": "stream",
     "text": [
      "\n",
      "DataFrame sorted by columns 'A' and 'B':\n",
      "    A  B       C   D\n",
      "0  1  5   apple  10\n",
      "1  2  6  banana  20\n",
      "2  2  6   apple  30\n",
      "3  3  6  banana  40\n",
      "4  4  7  banana  50\n",
      "5  4  8   apple  60\n",
      "6  4  9  banana  70\n"
     ]
    }
   ],
   "source": [
    "# Sort by columns 'A' and 'B'\n",
    "sorted_df_multi = df.sort_values(by=['A', 'B'])\n",
    "print(\"\\nDataFrame sorted by columns 'A' and 'B':\\n\", sorted_df_multi)"
   ]
  },
  {
   "cell_type": "raw",
   "id": "9f16d6c6-02d4-4edb-9a2c-c7ef6fbbe562",
   "metadata": {},
   "source": [
    "# Grouping"
   ]
  },
  {
   "cell_type": "code",
   "execution_count": 5,
   "id": "a5296f82-b755-4759-be40-40e0dea49494",
   "metadata": {},
   "outputs": [
    {
     "name": "stdout",
     "output_type": "stream",
     "text": [
      "\n",
      "Sum of each group by columns 'A' and 'C':\n",
      "            B    D\n",
      "A C              \n",
      "1 apple    5   10\n",
      "2 apple    6   30\n",
      "  banana   6   20\n",
      "3 banana   6   40\n",
      "4 apple    8   60\n",
      "  banana  16  120\n"
     ]
    }
   ],
   "source": [
    "# Group by columns 'A' and 'C' and calculate the sum of each group\n",
    "grouped_sum = df.groupby(['A', 'C']).sum()\n",
    "print(\"\\nSum of each group by columns 'A' and 'C':\\n\", grouped_sum)"
   ]
  },
  {
   "cell_type": "code",
   "execution_count": null,
   "id": "33f3c237-7428-4c32-97b6-bb0e5cf11d31",
   "metadata": {},
   "outputs": [],
   "source": []
  }
 ],
 "metadata": {
  "kernelspec": {
   "display_name": "Python 3 (ipykernel)",
   "language": "python",
   "name": "python3"
  },
  "language_info": {
   "codemirror_mode": {
    "name": "ipython",
    "version": 3
   },
   "file_extension": ".py",
   "mimetype": "text/x-python",
   "name": "python",
   "nbconvert_exporter": "python",
   "pygments_lexer": "ipython3",
   "version": "3.11.7"
  }
 },
 "nbformat": 4,
 "nbformat_minor": 5
}
