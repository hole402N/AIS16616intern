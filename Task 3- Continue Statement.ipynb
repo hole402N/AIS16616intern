{
 "cells": [
  {
   "cell_type": "markdown",
   "id": "06e3ad01-5218-4e87-8b63-ca7156716dfa",
   "metadata": {},
   "source": [
    "# Continue Statement"
   ]
  },
  {
   "cell_type": "markdown",
   "id": "89a0fff1-f8f3-4276-a3c8-a695a2a6a5c4",
   "metadata": {},
   "source": [
    "* Python Continue Statement skips the execution of the program block after the continue statement and forces the control to start the next iteration."
   ]
  },
  {
   "cell_type": "raw",
   "id": "f55a3bad-48f4-4213-992c-b0900f540b64",
   "metadata": {},
   "source": [
    "# Python Continue Statement\n",
    "  Python Continue statement is a loop control statement that forces to execute the next iteration of the loop while skipping the rest of the\n",
    "  code inside the loop for the current iteration only, i.e. when the continue statement is executed in the loop, the code inside the loop\n",
    "  following the continue statement will be skipped for the current iteration and the next iteration of the loop will begin."
   ]
  },
  {
   "cell_type": "raw",
   "id": "cba77150-e978-45fd-9195-b15481bf23ff",
   "metadata": {},
   "source": [
    "* Python continue Statement Syntax\n",
    "while True:\n",
    "    ...\n",
    "    if x == 10:\n",
    "        continue\n",
    "    print(x)"
   ]
  },
  {
   "cell_type": "code",
   "execution_count": 1,
   "id": "ba1ea225-01e3-43e1-bf5a-b333748b6ee2",
   "metadata": {},
   "outputs": [
    {
     "name": "stdout",
     "output_type": "stream",
     "text": [
      "G\n",
      "k\n",
      "s\n",
      "f\n",
      "o\n",
      "r\n",
      "g\n",
      "k\n",
      "s\n"
     ]
    }
   ],
   "source": [
    "# Example 1\n",
    "for var in \"Geeksforgeeks\":\n",
    "    if var == \"e\":\n",
    "        continue\n",
    "    print(var)"
   ]
  },
  {
   "cell_type": "code",
   "execution_count": 2,
   "id": "cf7d91df-b6af-4576-b2cc-e4b01901d71f",
   "metadata": {},
   "outputs": [
    {
     "name": "stdout",
     "output_type": "stream",
     "text": [
      "b\n",
      "c\n",
      "d\n"
     ]
    }
   ],
   "source": [
    "# Example 2\n",
    "li =['a', 'b', 'c', 'd']\n",
    " \n",
    "for i in li:\n",
    "    if(i =='a'):\n",
    "        pass\n",
    "    else:\n",
    "        print(i)"
   ]
  },
  {
   "cell_type": "code",
   "execution_count": 3,
   "id": "05db7855-14bf-4108-a02c-1e772e662542",
   "metadata": {},
   "outputs": [
    {
     "name": "stdout",
     "output_type": "stream",
     "text": [
      "hello\n",
      "world\n",
      "python\n"
     ]
    }
   ],
   "source": [
    "# Example 3\n",
    "strings = [\"hello\", \"\", \"world\", \"\", \"python\"]\n",
    "for s in strings:\n",
    "    if s == \"\":\n",
    "        continue\n",
    "    print(s)"
   ]
  },
  {
   "cell_type": "code",
   "execution_count": null,
   "id": "b279b00f-5645-4a2b-afe6-9fd7a851542a",
   "metadata": {},
   "outputs": [],
   "source": []
  }
 ],
 "metadata": {
  "kernelspec": {
   "display_name": "Python 3 (ipykernel)",
   "language": "python",
   "name": "python3"
  },
  "language_info": {
   "codemirror_mode": {
    "name": "ipython",
    "version": 3
   },
   "file_extension": ".py",
   "mimetype": "text/x-python",
   "name": "python",
   "nbconvert_exporter": "python",
   "pygments_lexer": "ipython3",
   "version": "3.11.7"
  }
 },
 "nbformat": 4,
 "nbformat_minor": 5
}
