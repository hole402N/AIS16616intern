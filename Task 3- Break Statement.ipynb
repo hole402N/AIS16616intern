{
 "cells": [
  {
   "cell_type": "markdown",
   "id": "cd357d8d-0570-491b-8d01-d6aadba4887e",
   "metadata": {},
   "source": [
    "# Break Statement"
   ]
  },
  {
   "cell_type": "markdown",
   "id": "c6344c2f-48d5-4956-a541-0531ee2e8bfa",
   "metadata": {},
   "source": [
    "* Python break is used to terminate the execution of the loop. "
   ]
  },
  {
   "cell_type": "raw",
   "id": "9c494d91-9d3e-4145-b42c-57575f4b89ee",
   "metadata": {},
   "source": [
    "* Python break statement Syntax:\n",
    "  Loop{\n",
    "     Condition:\n",
    "          break\n",
    "     }"
   ]
  },
  {
   "cell_type": "raw",
   "id": "9c4ed6a2-9df4-4d5e-8060-037aa00ac4c8",
   "metadata": {},
   "source": [
    "*Python break statement\n",
    " break statement in Python is used to bring the control out of the loop when some external condition is triggered. \n",
    " break statement is put inside the loop body (generally after if condition).  \n",
    " It terminates the current loop, i.e., the loop in which it appears, and resumes execution at the next statement immediately after the end of that       loop. \n",
    " If the break statement is inside a nested loop, the break will terminate the innermost loop."
   ]
  },
  {
   "cell_type": "code",
   "execution_count": 1,
   "id": "6bf694d9-9d08-44a8-8893-8ebf8506f1b2",
   "metadata": {},
   "outputs": [
    {
     "name": "stdout",
     "output_type": "stream",
     "text": [
      "0\n",
      "1\n",
      "2\n",
      "3\n",
      "4\n"
     ]
    }
   ],
   "source": [
    "# Example 1\n",
    "for i in range(10):\n",
    "    if i == 5:\n",
    "        break\n",
    "    print(i)"
   ]
  },
  {
   "cell_type": "code",
   "execution_count": 3,
   "id": "d0ea46a1-d939-49b1-a0ea-0ea72ec9a185",
   "metadata": {},
   "outputs": [
    {
     "name": "stdout",
     "output_type": "stream",
     "text": [
      "apple\n",
      "banana\n"
     ]
    }
   ],
   "source": [
    "# Example 2\n",
    "strings = [\"apple\", \"banana\", \"cherry\", \"date\"]\n",
    "for s in strings:\n",
    "    if 'ch' in s:\n",
    "        break\n",
    "    print(s)\n"
   ]
  },
  {
   "cell_type": "code",
   "execution_count": 5,
   "id": "38f67d2b-0bd8-460a-92b5-4535bd79a3e3",
   "metadata": {},
   "outputs": [
    {
     "name": "stdout",
     "output_type": "stream",
     "text": [
      "0\n",
      "1\n",
      "4\n",
      "9\n",
      "16\n",
      "25\n"
     ]
    }
   ],
   "source": [
    "# Example 3\n",
    "squares = [x*x for x in range(10)]\n",
    "for square in squares:\n",
    "    if square > 30:\n",
    "        break\n",
    "    print(square)"
   ]
  },
  {
   "cell_type": "code",
   "execution_count": null,
   "id": "3230fb3d-d14b-4453-86d0-f74e442d7514",
   "metadata": {},
   "outputs": [],
   "source": []
  }
 ],
 "metadata": {
  "kernelspec": {
   "display_name": "Python 3 (ipykernel)",
   "language": "python",
   "name": "python3"
  },
  "language_info": {
   "codemirror_mode": {
    "name": "ipython",
    "version": 3
   },
   "file_extension": ".py",
   "mimetype": "text/x-python",
   "name": "python",
   "nbconvert_exporter": "python",
   "pygments_lexer": "ipython3",
   "version": "3.11.7"
  }
 },
 "nbformat": 4,
 "nbformat_minor": 5
}
