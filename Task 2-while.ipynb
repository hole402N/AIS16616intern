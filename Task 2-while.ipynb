{
 "cells": [
  {
   "cell_type": "markdown",
   "id": "9f9af506-1f15-443c-8115-40574431d696",
   "metadata": {},
   "source": [
    "# While"
   ]
  },
  {
   "cell_type": "markdown",
   "id": "2bda0549-8240-4d2c-9f4e-181110269463",
   "metadata": {},
   "source": [
    "* With the while loop we can execute a set of statements as long as a condition is true.\n",
    "* A while loop in python is used to repeatedly execute a book of coad as long as a specified condition is true.\n",
    "* Using the while loop effectively requrires careful consideration of the condition and ensuring that loop will terminate to avoid infinite loops."
   ]
  },
  {
   "cell_type": "raw",
   "id": "160149f2-dc6c-40dc-84db-de612f0757b4",
   "metadata": {},
   "source": [
    "* Syntax\n",
    "while condition \n",
    "code block to be executed"
   ]
  },
  {
   "cell_type": "code",
   "execution_count": 1,
   "id": "13e755b1-753c-4272-a2e4-6f8a9201ad8c",
   "metadata": {},
   "outputs": [
    {
     "name": "stdout",
     "output_type": "stream",
     "text": [
      "1\n",
      "2\n",
      "3\n",
      "4\n",
      "5\n"
     ]
    }
   ],
   "source": [
    "# Example 1\n",
    "i = 1\n",
    "while i < 6:\n",
    "  print(i)\n",
    "  i += 1"
   ]
  },
  {
   "cell_type": "code",
   "execution_count": 3,
   "id": "f3638de3-2a5e-445f-a2d8-df7f86db78ac",
   "metadata": {},
   "outputs": [
    {
     "name": "stdout",
     "output_type": "stream",
     "text": [
      "Factorial is 120\n"
     ]
    }
   ],
   "source": [
    "# Example 2\n",
    "num = 5\n",
    "factorial = 1\n",
    "while num > 1:\n",
    "    factorial *= num\n",
    "    num -= 1\n",
    "print(f\"Factorial is {factorial}\")"
   ]
  },
  {
   "cell_type": "code",
   "execution_count": 4,
   "id": "9d467291-3203-402d-8b43-e3927428a51a",
   "metadata": {},
   "outputs": [
    {
     "name": "stdin",
     "output_type": "stream",
     "text": [
      "Enter password:  5466\n",
      "Enter password:  admin\n",
      "Enter password:  secret\n"
     ]
    },
    {
     "name": "stdout",
     "output_type": "stream",
     "text": [
      "Access granted\n"
     ]
    }
   ],
   "source": [
    "# Example 3\n",
    "password = \"\"\n",
    "while password != \"secret\":\n",
    "    password = input(\"Enter password: \")\n",
    "print(\"Access granted\")"
   ]
  },
  {
   "cell_type": "code",
   "execution_count": 5,
   "id": "d0d2854a-f651-4366-8216-67cd5a90e66c",
   "metadata": {},
   "outputs": [
    {
     "name": "stdin",
     "output_type": "stream",
     "text": [
      "Enter a number:  7\n"
     ]
    },
    {
     "name": "stdout",
     "output_type": "stream",
     "text": [
      "7 22 11 34 17 52 26 13 40 20 10 5 16 8 4 2 1\n"
     ]
    }
   ],
   "source": [
    "# Example 4\n",
    "n = int(input(\"Enter a number: \"))\n",
    "while n != 1:\n",
    "    print(n, end=\" \")\n",
    "    if n % 2 == 0:\n",
    "        n = n // 2\n",
    "    else:\n",
    "        n = 3 * n + 1\n",
    "print(n)"
   ]
  },
  {
   "cell_type": "code",
   "execution_count": 6,
   "id": "3e79f78c-eed4-4b61-894f-3667d0d15b07",
   "metadata": {},
   "outputs": [
    {
     "name": "stdout",
     "output_type": "stream",
     "text": [
      "10\n",
      "9\n",
      "8\n",
      "7\n",
      "6\n",
      "5\n",
      "4\n",
      "3\n",
      "2\n",
      "1\n",
      "Liftoff!\n"
     ]
    }
   ],
   "source": [
    "# Example 5\n",
    "count = 10\n",
    "while count > 0:\n",
    "    print(count)\n",
    "    count -= 1\n",
    "print(\"Liftoff!\")"
   ]
  },
  {
   "cell_type": "code",
   "execution_count": 8,
   "id": "f7c6d98f-3ef1-42a1-9585-5b5bc8034494",
   "metadata": {},
   "outputs": [
    {
     "name": "stdout",
     "output_type": "stream",
     "text": [
      "Infinite loop, iteration: 0\n",
      "Infinite loop, iteration: 1\n",
      "Infinite loop, iteration: 2\n",
      "Breaking the loop\n"
     ]
    }
   ],
   "source": [
    "# Example 6\n",
    "i = 0\n",
    "while True:\n",
    "    print(\"Infinite loop, iteration:\", i)\n",
    "    i += 1\n",
    "    if i == 3:\n",
    "        print(\"Breaking the loop\")\n",
    "        break"
   ]
  },
  {
   "cell_type": "code",
   "execution_count": 9,
   "id": "43d8a09f-da62-469e-9190-358b5517462a",
   "metadata": {},
   "outputs": [
    {
     "name": "stdin",
     "output_type": "stream",
     "text": [
      "Enter a positive number:  -4\n",
      "Enter a positive number:  9\n"
     ]
    },
    {
     "name": "stdout",
     "output_type": "stream",
     "text": [
      "You entered: 9\n"
     ]
    }
   ],
   "source": [
    "# Example 7\n",
    "number = -1\n",
    "while number < 0:\n",
    "    number = int(input(\"Enter a positive number: \"))\n",
    "print(f\"You entered: {number}\")"
   ]
  },
  {
   "cell_type": "code",
   "execution_count": 10,
   "id": "ed2ae120-14c4-4766-9214-e14fd6b2765d",
   "metadata": {},
   "outputs": [
    {
     "name": "stdout",
     "output_type": "stream",
     "text": [
      "The GCD is: 12\n"
     ]
    }
   ],
   "source": [
    "# Example 8\n",
    "a = 60\n",
    "b = 48\n",
    "while b:\n",
    "    a, b = b, a % b\n",
    "print(f\"The GCD is: {a}\")"
   ]
  },
  {
   "cell_type": "code",
   "execution_count": 1,
   "id": "8c38bf40-c904-436b-b122-b598fd9b4821",
   "metadata": {},
   "outputs": [
    {
     "name": "stdout",
     "output_type": "stream",
     "text": [
      "1\n",
      "2\n",
      "4\n",
      "8\n",
      "16\n",
      "32\n",
      "64\n",
      "128\n",
      "256\n",
      "512\n"
     ]
    }
   ],
   "source": [
    "# Example 9\n",
    "power = 1\n",
    "while power <= 1000:\n",
    "    print(power)\n",
    "    power *= 2"
   ]
  },
  {
   "cell_type": "code",
   "execution_count": 2,
   "id": "40418d91-e558-46f0-8d95-857310a5ffb9",
   "metadata": {},
   "outputs": [
    {
     "name": "stdout",
     "output_type": "stream",
     "text": [
      "1\n",
      "1\n",
      "2\n",
      "3\n",
      "5\n",
      "8\n",
      "13\n",
      "21\n",
      "34\n",
      "55\n",
      "89\n"
     ]
    }
   ],
   "source": [
    "# Example 10\n",
    "a, b = 0, 1\n",
    "while b < 100:\n",
    "    print(b)\n",
    "    a, b = b, a + b"
   ]
  },
  {
   "cell_type": "code",
   "execution_count": null,
   "id": "266ff535-bc29-4988-8070-0fca80454c31",
   "metadata": {},
   "outputs": [],
   "source": []
  }
 ],
 "metadata": {
  "kernelspec": {
   "display_name": "Python 3 (ipykernel)",
   "language": "python",
   "name": "python3"
  },
  "language_info": {
   "codemirror_mode": {
    "name": "ipython",
    "version": 3
   },
   "file_extension": ".py",
   "mimetype": "text/x-python",
   "name": "python",
   "nbconvert_exporter": "python",
   "pygments_lexer": "ipython3",
   "version": "3.11.7"
  }
 },
 "nbformat": 4,
 "nbformat_minor": 5
}
