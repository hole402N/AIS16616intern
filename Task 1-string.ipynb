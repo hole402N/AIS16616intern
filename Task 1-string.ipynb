{
 "cells": [
  {
   "cell_type": "markdown",
   "id": "b8d9f732-c594-4c08-a2c7-299edad818cc",
   "metadata": {},
   "source": [
    "# Immutable"
   ]
  },
  {
   "cell_type": "raw",
   "id": "7b029187-ffa9-45b1-a3ea-91c312494d77",
   "metadata": {},
   "source": [
    "# String\n",
    "Strings in python are surrounded by either single quotation marks, or double quotation marks.\n",
    "'hello' is the same as \"hello\"."
   ]
  },
  {
   "cell_type": "code",
   "execution_count": 2,
   "id": "2a4f77e1-e669-4181-88f5-28f2135fb0d4",
   "metadata": {},
   "outputs": [
    {
     "name": "stdout",
     "output_type": "stream",
     "text": [
      "Hello\n",
      "Hello\n"
     ]
    }
   ],
   "source": [
    "print(\"Hello\")\n",
    "print('Hello')"
   ]
  },
  {
   "cell_type": "raw",
   "id": "c4a4944d-cadf-4f47-a156-a486487a961a",
   "metadata": {},
   "source": [
    "*Quotes Inside Quotes\n",
    " You can use quotes inside a string, as long as they don't match the quotes surrounding the string:"
   ]
  },
  {
   "cell_type": "code",
   "execution_count": 3,
   "id": "ca13f456-5bb4-46ad-987a-dc2a594f6a4b",
   "metadata": {},
   "outputs": [
    {
     "name": "stdout",
     "output_type": "stream",
     "text": [
      "She is called 'Ayasha'\n",
      "She is called \"Snehal\"\n"
     ]
    }
   ],
   "source": [
    "print(\"She is called 'Ayasha'\")\n",
    "print('She is called \"Snehal\"')"
   ]
  },
  {
   "cell_type": "raw",
   "id": "e9a91dd4-8f2a-4271-8cdd-59c2ef1d9311",
   "metadata": {},
   "source": [
    "*Assign String to a Variable\n",
    " Assigning a string to a variable is done with the variable name followed by an equal sign and the string:"
   ]
  },
  {
   "cell_type": "code",
   "execution_count": 4,
   "id": "f591cf8f-49a0-4e5a-8a76-4a4bac57c867",
   "metadata": {},
   "outputs": [
    {
     "name": "stdout",
     "output_type": "stream",
     "text": [
      "Hey\n"
     ]
    }
   ],
   "source": [
    "d = \"Hey\"\n",
    "print(d)"
   ]
  },
  {
   "cell_type": "raw",
   "id": "c03aab8c-edff-4555-be1e-67592c8c8120",
   "metadata": {},
   "source": [
    "*Multiline Strings\n",
    " You can assign a multiline string to a variable by using three quotes.\n",
    " You can use three double quotes:"
   ]
  },
  {
   "cell_type": "code",
   "execution_count": 5,
   "id": "de877c26-965a-4b89-bcf2-15434054307f",
   "metadata": {},
   "outputs": [
    {
     "name": "stdout",
     "output_type": "stream",
     "text": [
      "Lorem ipsum dolor sit amet,\n",
      "consectetur adipiscing elit,\n",
      "sed do eiusmod tempor incididunt\n",
      "ut labore et dolore magna aliqua.\n"
     ]
    }
   ],
   "source": [
    "a = \"\"\"Lorem ipsum dolor sit amet,\n",
    "consectetur adipiscing elit,\n",
    "sed do eiusmod tempor incididunt\n",
    "ut labore et dolore magna aliqua.\"\"\"\n",
    "print(a)"
   ]
  },
  {
   "cell_type": "raw",
   "id": "6a7cd78f-2625-48dc-9bfa-d5b907d9da59",
   "metadata": {},
   "source": [
    "* Strings are Arrays\n",
    "  Like many other popular programming languages, strings in Python are arrays of bytes representing unicode characters.\n",
    "  However, Python does not have a character data type, a single character is simply a string with a length of 1.\n",
    "  Square brackets can be used to access elements of the string.\n",
    "  Get the character at position 1 (remember that the first character has the position 0):"
   ]
  },
  {
   "cell_type": "code",
   "execution_count": 8,
   "id": "44adeed7-0430-43cd-9ae8-a65b7a54edb6",
   "metadata": {},
   "outputs": [
    {
     "name": "stdout",
     "output_type": "stream",
     "text": [
      "e\n"
     ]
    }
   ],
   "source": [
    "a = \"Hello, World!\"\n",
    "print(a[1])"
   ]
  },
  {
   "cell_type": "raw",
   "id": "e7062850-06ae-4623-b995-dad53a9e7e41",
   "metadata": {},
   "source": [
    "*Looping Through a String\n",
    " Since strings are arrays, we can loop through the characters in a string, with a for loop.\n",
    " Loop through the letters in the word \"laptop\":"
   ]
  },
  {
   "cell_type": "code",
   "execution_count": 9,
   "id": "b5338201-00aa-4dbd-83e6-e9c739d2789c",
   "metadata": {},
   "outputs": [
    {
     "name": "stdout",
     "output_type": "stream",
     "text": [
      "l\n",
      "a\n",
      "p\n",
      "t\n",
      "o\n",
      "p\n"
     ]
    }
   ],
   "source": [
    "for x in \"laptop\":\n",
    "  print(x)"
   ]
  },
  {
   "cell_type": "raw",
   "id": "1a15d077-23ce-4f01-8747-e55f26756641",
   "metadata": {},
   "source": [
    "*String Length\n",
    " To get the length of a string, use the len() function."
   ]
  },
  {
   "cell_type": "code",
   "execution_count": 10,
   "id": "a4517a98-2dc1-4cbe-8ec3-3d211cd68298",
   "metadata": {},
   "outputs": [
    {
     "name": "stdout",
     "output_type": "stream",
     "text": [
      "13\n"
     ]
    }
   ],
   "source": [
    "a = \"Hello, World!\"\n",
    "print(len(a))"
   ]
  },
  {
   "cell_type": "raw",
   "id": "4938edeb-acef-4347-a21a-7e39bcd35a6b",
   "metadata": {},
   "source": [
    "* Check String\n",
    "  To check if a certain phrase or character is present in a string, we can use the keyword in.\n",
    "  Check if \"free\" is present in the following text:"
   ]
  },
  {
   "cell_type": "code",
   "execution_count": 11,
   "id": "bf8bb593-623e-4597-985d-00198d637cd5",
   "metadata": {},
   "outputs": [
    {
     "name": "stdout",
     "output_type": "stream",
     "text": [
      "True\n"
     ]
    }
   ],
   "source": [
    "txt = \"The best things in life are free!\"\n",
    "print(\"free\" in txt)"
   ]
  },
  {
   "cell_type": "raw",
   "id": "24acbd20-15f4-4219-bf5b-a478f766849a",
   "metadata": {},
   "source": [
    "*Use it in an if statement.\n",
    " Print only if \"free\" is present."
   ]
  },
  {
   "cell_type": "code",
   "execution_count": 12,
   "id": "9663c4f7-7b92-4d18-8de1-f43b9b33f33e",
   "metadata": {},
   "outputs": [
    {
     "name": "stdout",
     "output_type": "stream",
     "text": [
      "Yes, 'free' is present.\n"
     ]
    }
   ],
   "source": [
    "txt = \"The best things in life are free!\"\n",
    "if \"free\" in txt:\n",
    "  print(\"Yes, 'free' is present.\")"
   ]
  },
  {
   "cell_type": "raw",
   "id": "63416e3e-02ae-4354-8f73-6c9fbc0fd7a2",
   "metadata": {},
   "source": [
    "* Check if NOT\n",
    "  To check if a certain phrase or character is NOT present in a string, we can use the keyword not in.\n",
    "  Check if \"expensive\" is NOT present in the following text:"
   ]
  },
  {
   "cell_type": "code",
   "execution_count": 13,
   "id": "a2be96ad-3cbe-4d49-86a5-087b37e0b7ab",
   "metadata": {},
   "outputs": [
    {
     "name": "stdout",
     "output_type": "stream",
     "text": [
      "True\n"
     ]
    }
   ],
   "source": [
    "txt = \"The best things in life are free!\"\n",
    "print(\"expensive\" not in txt)"
   ]
  },
  {
   "cell_type": "raw",
   "id": "158c75fa-c753-470f-9ffe-056a2b4986cb",
   "metadata": {},
   "source": [
    "*Use it in an if statement:\n",
    " print only if \"expensive\" is NOT present:"
   ]
  },
  {
   "cell_type": "code",
   "execution_count": 14,
   "id": "91e3dd20-d84d-4aa6-b20c-c4cd7da41f24",
   "metadata": {},
   "outputs": [
    {
     "name": "stdout",
     "output_type": "stream",
     "text": [
      "No, 'expensive' is NOT present.\n"
     ]
    }
   ],
   "source": [
    "txt = \"The best things in life are free!\"\n",
    "if \"expensive\" not in txt:\n",
    "  print(\"No, 'expensive' is NOT present.\")"
   ]
  }
 ],
 "metadata": {
  "kernelspec": {
   "display_name": "Python 3 (ipykernel)",
   "language": "python",
   "name": "python3"
  },
  "language_info": {
   "codemirror_mode": {
    "name": "ipython",
    "version": 3
   },
   "file_extension": ".py",
   "mimetype": "text/x-python",
   "name": "python",
   "nbconvert_exporter": "python",
   "pygments_lexer": "ipython3",
   "version": "3.11.7"
  }
 },
 "nbformat": 4,
 "nbformat_minor": 5
}
