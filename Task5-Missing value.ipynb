{
 "cells": [
  {
   "cell_type": "markdown",
   "id": "a6dc1bf1-f6ab-4e8c-a914-d9f711204113",
   "metadata": {},
   "source": [
    "# Create a DataFrame with Missing Values"
   ]
  },
  {
   "cell_type": "code",
   "execution_count": 1,
   "id": "715326d3-6ced-4eec-b410-f44f73a45ae5",
   "metadata": {},
   "outputs": [
    {
     "name": "stdout",
     "output_type": "stream",
     "text": [
      "Original DataFrame with missing values:\n",
      "      A    B  C\n",
      "0  1.0  NaN  1\n",
      "1  2.0  2.0  2\n",
      "2  NaN  3.0  3\n",
      "3  4.0  NaN  4\n",
      "4  5.0  5.0  5\n"
     ]
    }
   ],
   "source": [
    "import pandas as pd\n",
    "import numpy as np\n",
    "# Sample DataFrame with missing values\n",
    "data = {\n",
    "    'A': [1, 2, np.nan, 4, 5],\n",
    "    'B': [np.nan, 2, 3, np.nan, 5],\n",
    "    'C': [1, 2, 3, 4, 5]\n",
    "}\n",
    "df = pd.DataFrame(data)\n",
    "print(\"Original DataFrame with missing values:\\n\", df)"
   ]
  },
  {
   "cell_type": "markdown",
   "id": "09bd1122-beb9-4732-9b5b-e62e5d51a2b9",
   "metadata": {},
   "source": [
    "# 1.Checking for Missing Values"
   ]
  },
  {
   "cell_type": "code",
   "execution_count": 3,
   "id": "310a27ed-4d9b-4537-a2bb-90fe31d9db11",
   "metadata": {},
   "outputs": [
    {
     "name": "stdout",
     "output_type": "stream",
     "text": [
      "\n",
      "Missing values in DataFrame:\n",
      "        A      B      C\n",
      "0  False   True  False\n",
      "1  False  False  False\n",
      "2   True  False  False\n",
      "3  False   True  False\n",
      "4  False  False  False\n",
      "\n",
      "Missing values count in each column:\n",
      " A    1\n",
      "B    2\n",
      "C    0\n",
      "dtype: int64\n"
     ]
    }
   ],
   "source": [
    "# Check for missing values in the entire DataFrame\n",
    "print(\"\\nMissing values in DataFrame:\\n\", df.isnull())\n",
    "\n",
    "# Check for missing values in each column\n",
    "print(\"\\nMissing values count in each column:\\n\", df.isnull().sum())"
   ]
  },
  {
   "cell_type": "markdown",
   "id": "ecaaddad-6a5e-4b28-984a-36301dbc125a",
   "metadata": {},
   "source": [
    "# 2.Dropping Rows or Columns with Missing Values"
   ]
  },
  {
   "cell_type": "markdown",
   "id": "e1bbadc8-2f96-4983-801f-197fa078973d",
   "metadata": {},
   "source": [
    "* Drop Rows with Any Missing Values"
   ]
  },
  {
   "cell_type": "code",
   "execution_count": 4,
   "id": "fa384395-6cfa-426e-b335-90dd59c7b95f",
   "metadata": {},
   "outputs": [
    {
     "name": "stdout",
     "output_type": "stream",
     "text": [
      "\n",
      "DataFrame after dropping rows with any missing values:\n",
      "      A    B  C\n",
      "1  2.0  2.0  2\n",
      "4  5.0  5.0  5\n"
     ]
    }
   ],
   "source": [
    "# Drop rows with any missing values\n",
    "df_drop_rows = df.dropna()\n",
    "print(\"\\nDataFrame after dropping rows with any missing values:\\n\", df_drop_rows)"
   ]
  },
  {
   "cell_type": "markdown",
   "id": "8a64d911-ddb5-43db-a91d-053249bed03f",
   "metadata": {},
   "source": [
    "* Drop Columns with Any Missing Values"
   ]
  },
  {
   "cell_type": "code",
   "execution_count": 5,
   "id": "31cd1d45-11ff-484a-b1d5-e44303c208b5",
   "metadata": {},
   "outputs": [
    {
     "name": "stdout",
     "output_type": "stream",
     "text": [
      "\n",
      "DataFrame after dropping columns with any missing values:\n",
      "    C\n",
      "0  1\n",
      "1  2\n",
      "2  3\n",
      "3  4\n",
      "4  5\n"
     ]
    }
   ],
   "source": [
    "# Drop columns with any missing values\n",
    "df_drop_cols = df.dropna(axis=1)\n",
    "print(\"\\nDataFrame after dropping columns with any missing values:\\n\", df_drop_cols)"
   ]
  },
  {
   "cell_type": "markdown",
   "id": "b25ba784-e776-45e6-9115-f7e5d514e78e",
   "metadata": {},
   "source": [
    "# 3.Filling Missing Values"
   ]
  },
  {
   "cell_type": "markdown",
   "id": "09043787-9291-4b2e-9c9e-b19e32450b8e",
   "metadata": {},
   "source": [
    "* Fill with Mean"
   ]
  },
  {
   "cell_type": "code",
   "execution_count": 6,
   "id": "ee93ceb1-f4f5-4d63-8089-546f46779a8b",
   "metadata": {},
   "outputs": [
    {
     "name": "stdout",
     "output_type": "stream",
     "text": [
      "\n",
      "DataFrame after filling missing values with mean:\n",
      "      A         B  C\n",
      "0  1.0  3.333333  1\n",
      "1  2.0  2.000000  2\n",
      "2  3.0  3.000000  3\n",
      "3  4.0  3.333333  4\n",
      "4  5.0  5.000000  5\n"
     ]
    }
   ],
   "source": [
    "# Fill missing values with mean of the column\n",
    "df_fill_mean = df.fillna(df.mean())\n",
    "print(\"\\nDataFrame after filling missing values with mean:\\n\", df_fill_mean)"
   ]
  },
  {
   "cell_type": "markdown",
   "id": "8bfeabea-c7c7-41cb-9328-2d5cd860e118",
   "metadata": {},
   "source": [
    "* Fill with Median"
   ]
  },
  {
   "cell_type": "code",
   "execution_count": 7,
   "id": "48dfd9d6-5502-43f2-90a8-673e942435bf",
   "metadata": {},
   "outputs": [
    {
     "name": "stdout",
     "output_type": "stream",
     "text": [
      "\n",
      "DataFrame after filling missing values with median:\n",
      "      A    B  C\n",
      "0  1.0  3.0  1\n",
      "1  2.0  2.0  2\n",
      "2  3.0  3.0  3\n",
      "3  4.0  3.0  4\n",
      "4  5.0  5.0  5\n"
     ]
    }
   ],
   "source": [
    "# Fill missing values with median of the column\n",
    "df_fill_median = df.fillna(df.median())\n",
    "print(\"\\nDataFrame after filling missing values with median:\\n\", df_fill_median)"
   ]
  },
  {
   "cell_type": "code",
   "execution_count": null,
   "id": "490a11f6-c900-4057-a541-6fc7e7e0d91d",
   "metadata": {},
   "outputs": [],
   "source": []
  }
 ],
 "metadata": {
  "kernelspec": {
   "display_name": "Python 3 (ipykernel)",
   "language": "python",
   "name": "python3"
  },
  "language_info": {
   "codemirror_mode": {
    "name": "ipython",
    "version": 3
   },
   "file_extension": ".py",
   "mimetype": "text/x-python",
   "name": "python",
   "nbconvert_exporter": "python",
   "pygments_lexer": "ipython3",
   "version": "3.11.7"
  }
 },
 "nbformat": 4,
 "nbformat_minor": 5
}
