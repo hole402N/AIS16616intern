{
 "cells": [
  {
   "cell_type": "markdown",
   "id": "55a408e9-da4e-4086-b288-51a00ad639b5",
   "metadata": {},
   "source": [
    " # Python Numbers"
   ]
  },
  {
   "cell_type": "raw",
   "id": "eff58422-e24e-47a8-9563-eff2a5f5b628",
   "metadata": {},
   "source": [
    "There are three numeric types in Python:\n",
    "\n",
    "1) int\n",
    "2) float\n",
    "3) complex"
   ]
  },
  {
   "cell_type": "raw",
   "id": "fd10bcd9-966a-4b6c-9894-ef2ca2550938",
   "metadata": {},
   "source": [
    "1) Int\n",
    "   Int, or integer, is a whole number, positive or negative, without decimals, of unlimited length.\n"
   ]
  },
  {
   "cell_type": "code",
   "execution_count": 1,
   "id": "aef81ba8-f88f-4db5-8aa7-1d74917bf950",
   "metadata": {},
   "outputs": [
    {
     "name": "stdout",
     "output_type": "stream",
     "text": [
      "<class 'int'>\n",
      "<class 'int'>\n",
      "<class 'int'>\n"
     ]
    }
   ],
   "source": [
    "x = 1\n",
    "y = 3565622255\n",
    "z = -3255522\n",
    "\n",
    "print(type(x))\n",
    "print(type(y))\n",
    "print(type(z))"
   ]
  },
  {
   "cell_type": "raw",
   "id": "d00a6f9a-003d-4d91-b5a3-8e1a739833b4",
   "metadata": {},
   "source": [
    "2) Float\n",
    "   Float, or \"floating point number\" is a number, positive or negative, containing one or more decimals."
   ]
  },
  {
   "cell_type": "code",
   "execution_count": 3,
   "id": "fbe1105f-a668-4718-b56d-becc7f18b81c",
   "metadata": {},
   "outputs": [
    {
     "name": "stdout",
     "output_type": "stream",
     "text": [
      "<class 'float'>\n",
      "<class 'float'>\n",
      "<class 'float'>\n"
     ]
    }
   ],
   "source": [
    "x = 1.10\n",
    "y = 1.0\n",
    "z = -35.59\n",
    "\n",
    "print(type(x))\n",
    "print(type(y))\n",
    "print(type(z))\n"
   ]
  },
  {
   "cell_type": "raw",
   "id": "ac76d713-5909-4aca-8905-c4070bb17ad0",
   "metadata": {},
   "source": [
    "3) Complex\n",
    "   Complex numbers are written with a \"j\" as the imaginary part:"
   ]
  },
  {
   "cell_type": "code",
   "execution_count": 4,
   "id": "617e0811-3913-44d7-be4e-33283d295706",
   "metadata": {},
   "outputs": [
    {
     "name": "stdout",
     "output_type": "stream",
     "text": [
      "<class 'complex'>\n",
      "<class 'complex'>\n",
      "<class 'complex'>\n"
     ]
    }
   ],
   "source": [
    "x = 3+5j\n",
    "y = 5j\n",
    "z = -5j\n",
    "\n",
    "print(type(x))\n",
    "print(type(y))\n",
    "print(type(z))"
   ]
  },
  {
   "cell_type": "code",
   "execution_count": null,
   "id": "340a4684-aa71-4511-aec9-eb06faff05e2",
   "metadata": {},
   "outputs": [],
   "source": []
  }
 ],
 "metadata": {
  "kernelspec": {
   "display_name": "Python 3 (ipykernel)",
   "language": "python",
   "name": "python3"
  },
  "language_info": {
   "codemirror_mode": {
    "name": "ipython",
    "version": 3
   },
   "file_extension": ".py",
   "mimetype": "text/x-python",
   "name": "python",
   "nbconvert_exporter": "python",
   "pygments_lexer": "ipython3",
   "version": "3.11.7"
  }
 },
 "nbformat": 4,
 "nbformat_minor": 5
}
