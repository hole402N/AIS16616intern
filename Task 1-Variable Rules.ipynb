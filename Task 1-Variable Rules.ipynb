{
 "cells": [
  {
   "cell_type": "markdown",
   "id": "fca2f55c-e60e-4d27-a707-0088e005f412",
   "metadata": {},
   "source": [
    "# Variable Rules"
   ]
  },
  {
   "cell_type": "raw",
   "id": "96c565ad-cbbf-47e5-b909-74d5bdf56d4d",
   "metadata": {},
   "source": [
    "*A variable name must start with a letter or the underscore character\n",
    "*A variable name cannot start with a number\n",
    "*A variable name can only contain alpha-numeric characters and underscores (A-z, 0-9, and _ )\n",
    "*Variable names are case-sensitive (age, Age and AGE are three different variables)\n",
    "*A variable name cannot be any of the Python keywords."
   ]
  },
  {
   "cell_type": "code",
   "execution_count": 2,
   "id": "25733db1-0fa2-4183-baac-41966da6c54b",
   "metadata": {},
   "outputs": [
    {
     "name": "stdout",
     "output_type": "stream",
     "text": [
      "person_name_is\n",
      "nisha\n"
     ]
    }
   ],
   "source": [
    "x=\"person_name_is\"\n",
    "y=\"nisha\"\n",
    "print(x)\n",
    "print(y)"
   ]
  },
  {
   "cell_type": "code",
   "execution_count": null,
   "id": "501ddd01-b40b-4c4f-97dc-7cb208ad952e",
   "metadata": {},
   "outputs": [],
   "source": []
  }
 ],
 "metadata": {
  "kernelspec": {
   "display_name": "Python 3 (ipykernel)",
   "language": "python",
   "name": "python3"
  },
  "language_info": {
   "codemirror_mode": {
    "name": "ipython",
    "version": 3
   },
   "file_extension": ".py",
   "mimetype": "text/x-python",
   "name": "python",
   "nbconvert_exporter": "python",
   "pygments_lexer": "ipython3",
   "version": "3.11.7"
  }
 },
 "nbformat": 4,
 "nbformat_minor": 5
}
