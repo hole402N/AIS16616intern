{
 "cells": [
  {
   "cell_type": "markdown",
   "id": "51f1778d-3fee-4099-9f32-15ec29e60bdb",
   "metadata": {},
   "source": [
    "# If elif Condition"
   ]
  },
  {
   "cell_type": "markdown",
   "id": "4eb47c85-ab6c-4f41-a121-3b8838e34056",
   "metadata": {},
   "source": [
    "* The elif keyword is Python's way of saying \"if the previous conditions were not true, then try this condition\"."
   ]
  },
  {
   "cell_type": "code",
   "execution_count": 1,
   "id": "9e6021ab-717d-42f1-a337-5bfbbcbecb40",
   "metadata": {},
   "outputs": [
    {
     "name": "stdout",
     "output_type": "stream",
     "text": [
      "a and b are equal\n"
     ]
    }
   ],
   "source": [
    "# Example 1\n",
    "a = 33\n",
    "b = 33\n",
    "if b > a:\n",
    "  print(\"b is greater than a\")\n",
    "elif a == b:\n",
    "  print(\"a and b are equal\")"
   ]
  },
  {
   "cell_type": "markdown",
   "id": "00761d99-9d32-4dbb-80b2-3226b74c60c6",
   "metadata": {},
   "source": [
    "* Else"
   ]
  },
  {
   "cell_type": "code",
   "execution_count": 3,
   "id": "410ada56-68f1-428e-9378-49822a13c09f",
   "metadata": {},
   "outputs": [
    {
     "name": "stdout",
     "output_type": "stream",
     "text": [
      "a is greater than b\n"
     ]
    }
   ],
   "source": [
    "#The else keyword catches anything which isn't caught by the preceding conditions.\n",
    "# Example 2\n",
    "a = 200\n",
    "b = 33\n",
    "if b > a:\n",
    "  print(\"b is greater than a\")\n",
    "elif a == b:\n",
    "  print(\"a and b are equal\")\n",
    "else:\n",
    "  print(\"a is greater than b\")"
   ]
  },
  {
   "cell_type": "code",
   "execution_count": 1,
   "id": "daaf0644-aa16-4ec4-b2f4-ae3730e01b66",
   "metadata": {},
   "outputs": [
    {
     "name": "stdout",
     "output_type": "stream",
     "text": [
      "This person is an adult.\n"
     ]
    }
   ],
   "source": [
    "# Example 3\n",
    "age = 25\n",
    "if age < 13:\n",
    "    print(\"This person is a child.\")\n",
    "elif age < 20:\n",
    "    print(\"This person is a teenager.\")\n",
    "elif age < 65:\n",
    "    print(\"This person is an adult.\")\n",
    "else:\n",
    "    print(\"This person is a senior.\")"
   ]
  },
  {
   "cell_type": "code",
   "execution_count": 2,
   "id": "dc27d14a-6a13-4a4f-a984-dffa85416164",
   "metadata": {},
   "outputs": [
    {
     "name": "stdout",
     "output_type": "stream",
     "text": [
      "Grade: B\n"
     ]
    }
   ],
   "source": [
    "# Example 4\n",
    "score = 87\n",
    "if score >= 90:\n",
    "    print(\"Grade: A\")\n",
    "elif score >= 80:\n",
    "    print(\"Grade: B\")\n",
    "elif score >= 70:\n",
    "    print(\"Grade: C\")\n",
    "elif score >= 60:\n",
    "    print(\"Grade: D\")\n",
    "else:\n",
    "    print(\"Grade: F\")"
   ]
  },
  {
   "cell_type": "code",
   "execution_count": 3,
   "id": "a6c07969-2d3f-4ae8-9f05-0779c1361072",
   "metadata": {},
   "outputs": [
    {
     "name": "stdout",
     "output_type": "stream",
     "text": [
      "The number is negative.\n"
     ]
    }
   ],
   "source": [
    "# Example 5\n",
    "number = -5\n",
    "if number > 0:\n",
    "    print(\"The number is positive.\")\n",
    "elif number < 0:\n",
    "    print(\"The number is negative.\")\n",
    "else:\n",
    "    print(\"The number is zero.\")"
   ]
  },
  {
   "cell_type": "code",
   "execution_count": 4,
   "id": "0c4d5584-61c6-40f0-af4b-b7ddb83d7d8a",
   "metadata": {},
   "outputs": [
    {
     "name": "stdout",
     "output_type": "stream",
     "text": [
      "Your discount is 10%.\n"
     ]
    }
   ],
   "source": [
    "# Example 6\n",
    "total_purchase = 150\n",
    "if total_purchase >= 200:\n",
    "    discount = 20  # 20% discount\n",
    "elif total_purchase >= 100:\n",
    "    discount = 10  # 10% discount\n",
    "else:\n",
    "    discount = 0   # No discount\n",
    "\n",
    "print(f\"Your discount is {discount}%.\")"
   ]
  },
  {
   "cell_type": "code",
   "execution_count": 5,
   "id": "facdea21-379b-45c7-bc06-7db2650e8ba2",
   "metadata": {},
   "outputs": [
    {
     "name": "stdout",
     "output_type": "stream",
     "text": [
      "Go\n"
     ]
    }
   ],
   "source": [
    "# Example 7\n",
    "traffic_light = \"Green\"\n",
    "if traffic_light == \"Red\":\n",
    "    print(\"Stop\")\n",
    "elif traffic_light == \"Yellow\":\n",
    "    print(\"Caution\")\n",
    "elif traffic_light == \"Green\":\n",
    "    print(\"Go\")\n",
    "else:\n",
    "    print(\"Invalid traffic light color\")"
   ]
  },
  {
   "cell_type": "code",
   "execution_count": 6,
   "id": "87c30606-f259-482d-944b-78c10e9a9ff1",
   "metadata": {},
   "outputs": [
    {
     "name": "stdout",
     "output_type": "stream",
     "text": [
      "Normal weight\n"
     ]
    }
   ],
   "source": [
    "# Example 8\n",
    "bmi = 22.5\n",
    "if bmi < 18.5:\n",
    "    print(\"Underweight\")\n",
    "elif bmi < 24.9:\n",
    "    print(\"Normal weight\")\n",
    "elif bmi < 29.9:\n",
    "    print(\"Overweight\")\n",
    "else:\n",
    "    print(\"Obesity\")\n"
   ]
  },
  {
   "cell_type": "code",
   "execution_count": 7,
   "id": "9535fe07-295f-4378-b881-b4a87cbc4e0c",
   "metadata": {},
   "outputs": [
    {
     "name": "stdout",
     "output_type": "stream",
     "text": [
      "Very Good\n"
     ]
    }
   ],
   "source": [
    "# Example 9\n",
    "marks = 85\n",
    "if marks >= 90:\n",
    "    print(\"Excellent\")\n",
    "elif marks >= 75:\n",
    "    print(\"Very Good\")\n",
    "elif marks >= 60:\n",
    "    print(\"Good\")\n",
    "elif marks >= 40:\n",
    "    print(\"Pass\")\n",
    "else:\n",
    "    print(\"Fail\")"
   ]
  },
  {
   "cell_type": "code",
   "execution_count": 8,
   "id": "9d501e95-716d-4f7f-b047-44a64f6f8b08",
   "metadata": {},
   "outputs": [
    {
     "name": "stdout",
     "output_type": "stream",
     "text": [
      "The triangle is scalene.\n"
     ]
    }
   ],
   "source": [
    "# Example 10\n",
    "a, b, c = 3, 4, 5\n",
    "if a == b == c:\n",
    "    print(\"The triangle is equilateral.\")\n",
    "elif a == b or b == c or a == c:\n",
    "    print(\"The triangle is isosceles.\")\n",
    "else:\n",
    "    print(\"The triangle is scalene.\")"
   ]
  },
  {
   "cell_type": "code",
   "execution_count": null,
   "id": "5757e3a2-fb69-4189-beca-d6ce5fddd84d",
   "metadata": {},
   "outputs": [],
   "source": []
  }
 ],
 "metadata": {
  "kernelspec": {
   "display_name": "Python 3 (ipykernel)",
   "language": "python",
   "name": "python3"
  },
  "language_info": {
   "codemirror_mode": {
    "name": "ipython",
    "version": 3
   },
   "file_extension": ".py",
   "mimetype": "text/x-python",
   "name": "python",
   "nbconvert_exporter": "python",
   "pygments_lexer": "ipython3",
   "version": "3.11.7"
  }
 },
 "nbformat": 4,
 "nbformat_minor": 5
}
