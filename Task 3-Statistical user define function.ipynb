{
 "cells": [
  {
   "cell_type": "markdown",
   "id": "5ac326e4-02dd-47a2-999d-fe77f9f80486",
   "metadata": {},
   "source": [
    "# Statistical user define function"
   ]
  },
  {
   "cell_type": "raw",
   "id": "e695c766-064a-47b1-b87e-824bbde52f29",
   "metadata": {},
   "source": [
    "# Python User-defined functions\n",
    "  All the functions that are written by any of us come under the category of user-defined functions. Below are the steps for writing user-defined         functions in Python.\n",
    "  In Python, a def keyword is used to declare user-defined functions. \n",
    "  An indented block of statements follows the function name and arguments which contains the body of the function. "
   ]
  },
  {
   "cell_type": "raw",
   "id": "ed6aa6ee-a1a5-4343-ba0a-cd4df2503f14",
   "metadata": {},
   "source": [
    "* Syntax\n",
    "def function_name():\n",
    "    statements\n",
    "    .\n",
    "    ."
   ]
  },
  {
   "cell_type": "markdown",
   "id": "1deb7f13-f8e9-4888-ba70-32ceebed357a",
   "metadata": {},
   "source": [
    "# Mean"
   ]
  },
  {
   "cell_type": "raw",
   "id": "70871e67-501f-413f-970e-4710233704ad",
   "metadata": {},
   "source": [
    "# Calculating the Mean With Python\n",
    "  To calculate the mean of a sample of numeric data, we'll use two of Python's built-in functions. One to calculate the total sum of the values and another to calculate the length of the sample.\n",
    "  The first function is sum(). This built-in function takes an iterable of numeric values and returns their total sum.\n",
    "  The second function is len(). This built-in function returns the length of an object. "
   ]
  },
  {
   "cell_type": "code",
   "execution_count": 1,
   "id": "0fb25c59-64e3-4362-bf9c-8f313b2e0620",
   "metadata": {},
   "outputs": [
    {
     "name": "stdout",
     "output_type": "stream",
     "text": [
      "48.8\n"
     ]
    }
   ],
   "source": [
    "#Example 1\n",
    "def Lmean(x):\n",
    "  if len(x)==0:\n",
    "       return 0\n",
    "  mean=sum(x)/len(x)\n",
    "  return(mean)\n",
    "x=[99,34,23,65,23]\n",
    "mean=Lmean(x)\n",
    "print(mean)"
   ]
  },
  {
   "cell_type": "markdown",
   "id": "ecd08992-2341-4c5d-a8aa-2a4601dec25b",
   "metadata": {},
   "source": [
    "# Median"
   ]
  },
  {
   "cell_type": "code",
   "execution_count": 8,
   "id": "eef2c5d5-9949-4365-9b5b-121aa0dd2fbe",
   "metadata": {},
   "outputs": [
    {
     "name": "stdout",
     "output_type": "stream",
     "text": [
      "8.5\n"
     ]
    }
   ],
   "source": [
    "# Example 2\n",
    "def Lmedian(sample):\n",
    "      if len(sample)==0:\n",
    "          return 0\n",
    "      sort=sorted(sample)   \n",
    "      n=len(sort) \n",
    "      mid=n//2\n",
    "      if n%2==0:\n",
    "          med=(sort[mid]+sort[mid+1])/2\n",
    "      else:\n",
    "          med=sort[mid]\n",
    "      return(med)    \n",
    "sample=[9,6,4,7,32,8,9,6]\n",
    "median = Lmedian(sample)\n",
    "print(median)\n",
    "    \n",
    "    "
   ]
  },
  {
   "cell_type": "markdown",
   "id": "8bcd31c2-a3b1-4a1b-a005-13f38321087c",
   "metadata": {},
   "source": [
    "# Mode"
   ]
  },
  {
   "cell_type": "code",
   "execution_count": 7,
   "id": "07a841bc-8bfc-4816-97d1-e8a9cd885cae",
   "metadata": {},
   "outputs": [
    {
     "data": {
      "text/plain": [
       "['male']"
      ]
     },
     "execution_count": 7,
     "metadata": {},
     "output_type": "execute_result"
    }
   ],
   "source": [
    " from collections import Counter\n",
    " def my_mode(sample):\n",
    "        c = Counter(sample)\n",
    "        return [k for k, v in c.items() if v == c.most_common(1)[0][1]]\n",
    " my_mode([\"male\", \"male\", \"female\", \"male\"])\n"
   ]
  },
  {
   "cell_type": "markdown",
   "id": "cf127c62-ad7d-4e56-b68b-2c7d93c01414",
   "metadata": {},
   "source": [
    "# Variance"
   ]
  },
  {
   "cell_type": "code",
   "execution_count": 10,
   "id": "29880790-29d8-4e5f-9d3f-9e48cf114ba2",
   "metadata": {},
   "outputs": [
    {
     "name": "stdout",
     "output_type": "stream",
     "text": [
      "5.76\n"
     ]
    }
   ],
   "source": [
    "def variance(data):\n",
    "        # Number of observations\n",
    "        n = len(data)\n",
    "        # Mean of the data\n",
    "        mean = sum(data) / n\n",
    "        # Square deviations\n",
    "        deviations = [(x - mean) ** 2 for x in data]\n",
    "        # Variance\n",
    "        variance = sum(deviations) / n\n",
    "        return variance\n",
    "data=[4,8,6,5,3,2,8,9,2,5]\n",
    "variance=variance(data)\n",
    "print(variance)\n",
    "\n"
   ]
  },
  {
   "cell_type": "markdown",
   "id": "cfca44a7-5944-47ed-915e-f11054577d21",
   "metadata": {},
   "source": [
    "# Standard deviation"
   ]
  },
  {
   "cell_type": "code",
   "execution_count": 14,
   "id": "a55e72f4-ba5f-4642-aa5f-81caa732d635",
   "metadata": {},
   "outputs": [
    {
     "data": {
      "text/plain": [
       "2.4"
      ]
     },
     "execution_count": 14,
     "metadata": {},
     "output_type": "execute_result"
    }
   ],
   "source": [
    "def variance(data):\n",
    "        n = len(data)\n",
    "        mean = sum(data) / n\n",
    "        return sum((x - mean) ** 2 for x in data) / n \n",
    "def stdev(data):\n",
    "       var = variance(data)\n",
    "       std_dev = (var)**0.5\n",
    "       return std_dev\n",
    "stdev([4, 8, 6, 5, 3, 2, 8, 9, 2, 5])\n"
   ]
  },
  {
   "cell_type": "markdown",
   "id": "94caf584-09e2-4c6e-9a72-45c4cd7fc849",
   "metadata": {},
   "source": [
    "# Covariance"
   ]
  },
  {
   "cell_type": "code",
   "execution_count": 12,
   "id": "bed2aca6-dfc6-41bf-8d44-f553f2629d87",
   "metadata": {},
   "outputs": [
    {
     "name": "stdout",
     "output_type": "stream",
     "text": [
      "0.03849999999999998\n"
     ]
    }
   ],
   "source": [
    "def covariance(x, y):\n",
    "    # Finding the mean of the series x and y\n",
    "    mean_x = sum(x)/float(len(x))\n",
    "    mean_y = sum(y)/float(len(y))\n",
    "    # Subtracting mean from the individual elements\n",
    "    sub_x = [i - mean_x for i in x]\n",
    "    sub_y = [i - mean_y for i in y]\n",
    "    numerator = sum([sub_x[i]*sub_y[i] for i in range(len(sub_x))])\n",
    "    denominator = len(x)-1\n",
    "    cov = numerator/denominator\n",
    "    return cov\n",
    "x=[4.9, 4.7, 5.0, 4.6, 5.4] \n",
    "y=[3.1, 3.2, 3.5, 3.1, 3.4]\n",
    "cov=covariance(x, y)\n",
    "print(cov)\n"
   ]
  },
  {
   "cell_type": "markdown",
   "id": "10cd1a15-3113-4199-bad7-494d38b73122",
   "metadata": {},
   "source": [
    "# Correlation"
   ]
  },
  {
   "cell_type": "code",
   "execution_count": 1,
   "id": "6876e16b-57ad-470b-8c01-de6d9f0b0c1d",
   "metadata": {},
   "outputs": [
    {
     "name": "stdout",
     "output_type": "stream",
     "text": [
      "0.6804839595787585\n"
     ]
    }
   ],
   "source": [
    "def correlation(x, y):\n",
    "    # Finding the mean of the series x and y\n",
    "    mean_x = sum(x)/float(len(x))\n",
    "    mean_y = sum(y)/float(len(y))\n",
    "    # Subtracting mean from the individual elements\n",
    "    sub_x = [i-mean_x for i in x]\n",
    "    sub_y = [i-mean_y for i in y]\n",
    "    # covariance for x and y\n",
    "    numerator = sum([sub_x[i]*sub_y[i] for i in range(len(sub_x))])\n",
    "    # Standard Deviation of x and y\n",
    "    std_deviation_x = sum([sub_x[i]**2.0 for i in range(len(sub_x))])\n",
    "    std_deviation_y = sum([sub_y[i]**2.0 for i in range(len(sub_y))])\n",
    "    # squaring by 0.5 to find the square root\n",
    "    denominator = (std_deviation_x*std_deviation_y)**0.5 # short but equivalent to (std_deviation_x**0.5) * (std_deviation_y**0.5)\n",
    "    cor = numerator/denominator\n",
    "    return cor\n",
    "x=[4.9, 4.7, 5.0, 4.6, 5.4] \n",
    "y=[3.1, 3.2, 3.5, 3.1, 3.4]\n",
    "cor=correlation(x, y)\n",
    "print(cor)\n",
    "\n"
   ]
  },
  {
   "cell_type": "markdown",
   "id": "24dd9bb6-84dd-475d-8203-104bddf09efc",
   "metadata": {},
   "source": [
    "# Range"
   ]
  },
  {
   "cell_type": "code",
   "execution_count": 11,
   "id": "22671b04-17e4-46ac-b1ce-92535198d58c",
   "metadata": {},
   "outputs": [
    {
     "name": "stdout",
     "output_type": "stream",
     "text": [
      "7\n"
     ]
    }
   ],
   "source": [
    "def find_range(data):\n",
    "      if not data:\n",
    "            return 0\n",
    "      min_value = min(data)\n",
    "      max_value = max(data)\n",
    "      range = max_value - min_value\n",
    "      return range\n",
    "data=[4,5,6,8,2,9,4,5]\n",
    "range=find_range(data)\n",
    "print(range)"
   ]
  },
  {
   "cell_type": "markdown",
   "id": "9b46973b-54a4-4b1a-bc2b-e6d29d597735",
   "metadata": {},
   "source": [
    "# skwness and kurtosis"
   ]
  },
  {
   "cell_type": "code",
   "execution_count": 3,
   "id": "6286e87a-14cd-4d47-844a-046b15dba502",
   "metadata": {},
   "outputs": [
    {
     "name": "stdout",
     "output_type": "stream",
     "text": [
      "Skewness: 0.0\n",
      "Kurtosis: -0.4636243386243386\n"
     ]
    }
   ],
   "source": [
    "def calculate_mean(data):\n",
    "    return sum(data) / len(data)\n",
    "\n",
    "def calculate_variance(data, mean):\n",
    "    return sum((x - mean) ** 2 for x in data) / len(data)\n",
    "\n",
    "def calculate_standard_deviation(variance):\n",
    "    return variance ** 0.5\n",
    "\n",
    "def calculate_skewness(data):\n",
    "    n = len(data)\n",
    "    mean = calculate_mean(data)\n",
    "    variance = calculate_variance(data, mean)\n",
    "    std_dev = calculate_standard_deviation(variance)\n",
    "    \n",
    "    skewness = (n / ((n-1)*(n-2))) * sum(((x - mean) / std_dev) ** 3 for x in data)\n",
    "    return skewness\n",
    "\n",
    "def calculate_kurtosis(data):\n",
    "    n = len(data)\n",
    "    mean = calculate_mean(data)\n",
    "    variance = calculate_variance(data, mean)\n",
    "    std_dev = calculate_standard_deviation(variance)\n",
    "    \n",
    "    kurtosis = ((n * (n + 1)) / ((n - 1) * (n - 2) * (n - 3))) * sum(((x - mean) / std_dev) ** 4 for x in data) - (3 * ((n - 1) ** 2) / ((n - 2) * (n - 3)))\n",
    "    return kurtosis\n",
    "\n",
    "def calculate_skewness_kurtosis(data):\n",
    "    skewness = calculate_skewness(data)\n",
    "    kurtosis = calculate_kurtosis(data)\n",
    "    \n",
    "    return skewness, kurtosis\n",
    "\n",
    "# Example usage:\n",
    "data = [1, 2, 3, 4, 5, 6, 7, 8, 9, 10]\n",
    "skewness, kurt = calculate_skewness_kurtosis(data)\n",
    "print(f\"Skewness: {skewness}\")\n",
    "print(f\"Kurtosis: {kurt}\")"
   ]
  },
  {
   "cell_type": "code",
   "execution_count": null,
   "id": "25362754-cf8e-4d5f-a573-feeaeced966c",
   "metadata": {},
   "outputs": [],
   "source": []
  },
  {
   "cell_type": "code",
   "execution_count": null,
   "id": "b810aba7-2043-41b5-bda9-b316ee08d28d",
   "metadata": {},
   "outputs": [],
   "source": []
  }
 ],
 "metadata": {
  "kernelspec": {
   "display_name": "Python 3 (ipykernel)",
   "language": "python",
   "name": "python3"
  },
  "language_info": {
   "codemirror_mode": {
    "name": "ipython",
    "version": 3
   },
   "file_extension": ".py",
   "mimetype": "text/x-python",
   "name": "python",
   "nbconvert_exporter": "python",
   "pygments_lexer": "ipython3",
   "version": "3.11.7"
  }
 },
 "nbformat": 4,
 "nbformat_minor": 5
}
