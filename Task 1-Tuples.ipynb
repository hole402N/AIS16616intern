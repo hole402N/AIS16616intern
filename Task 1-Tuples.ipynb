{
 "cells": [
  {
   "cell_type": "markdown",
   "id": "5c467bb8-a96a-4353-bb8b-848ef71f649e",
   "metadata": {},
   "source": [
    "# Immutable"
   ]
  },
  {
   "cell_type": "markdown",
   "id": "297fc45a-6b8c-47e1-96e0-c510af9e5d23",
   "metadata": {},
   "source": [
    "# Tuple"
   ]
  },
  {
   "cell_type": "markdown",
   "id": "c2e0b6dc-39e2-4511-9d5b-1075c82e64ca",
   "metadata": {},
   "source": [
    "* Tuples are used to store multiple items in a single variable.\n",
    "* Tuple is one of 4 built-in data types in Python used to store collections of data, the other 3 are List, Set, and Dictionary, all with different        qualities and usage.\n",
    "* A tuple is a collection which is ordered and unchangeable.\n",
    "* Tuples are written with round brackets."
   ]
  },
  {
   "cell_type": "code",
   "execution_count": 3,
   "id": "5e08a693-5042-4c3b-aa73-16bf34ac275c",
   "metadata": {},
   "outputs": [
    {
     "name": "stdout",
     "output_type": "stream",
     "text": [
      "('apple', 'banana', 'cherry')\n"
     ]
    }
   ],
   "source": [
    "# Create a Tuple:\n",
    "thistuple = (\"apple\", \"banana\", \"cherry\")\n",
    "print(thistuple)"
   ]
  },
  {
   "cell_type": "raw",
   "id": "37091c2f-0c3b-4efc-92d5-a581fd041eb9",
   "metadata": {},
   "source": [
    "*Tuple Items\n",
    " Tuple items are ordered, unchangeable, and allow duplicate values.\n",
    " Tuple items are indexed, the first item has index [0], the second item has index [1] etc."
   ]
  },
  {
   "cell_type": "raw",
   "id": "aac61141-74e6-458f-b1d3-c22570531a39",
   "metadata": {},
   "source": [
    "* Ordered\n",
    "  When we say that tuples are ordered, it means that the items have a defined order, and that order will not change."
   ]
  },
  {
   "cell_type": "raw",
   "id": "064994bc-de73-4d12-9fee-bf5c891b551e",
   "metadata": {},
   "source": [
    "* Unchangeable\n",
    "  Tuples are unchangeable, meaning that we cannot change, add or remove items after the tuple has been created."
   ]
  },
  {
   "cell_type": "raw",
   "id": "b381f4f0-83a8-4827-85e7-d5829d932005",
   "metadata": {},
   "source": [
    "*Allow Duplicates\n",
    " Since tuples are indexed, they can have items with the same value:"
   ]
  },
  {
   "cell_type": "code",
   "execution_count": 3,
   "id": "29aede91-e040-4094-8d3d-b2c80663ea71",
   "metadata": {},
   "outputs": [
    {
     "name": "stdout",
     "output_type": "stream",
     "text": [
      "('apple', 'mango', 'cherry', 'apple', 'cherry')\n"
     ]
    }
   ],
   "source": [
    "# Tuples allow duplicate values:\n",
    "thistuple = (\"apple\", \"mango\", \"cherry\", \"apple\", \"cherry\")\n",
    "print(thistuple)"
   ]
  },
  {
   "cell_type": "raw",
   "id": "3895be7f-2f6b-439b-928d-68ddee08f766",
   "metadata": {},
   "source": [
    "*Tuple Length\n",
    " To determine how many items a tuple has, use the len() function."
   ]
  },
  {
   "cell_type": "code",
   "execution_count": 4,
   "id": "7380b348-393d-47e1-89cd-ed54290f0ec5",
   "metadata": {},
   "outputs": [
    {
     "name": "stdout",
     "output_type": "stream",
     "text": [
      "3\n"
     ]
    }
   ],
   "source": [
    "thistuple = (\"apple\", \"banana\", \"cherry\")\n",
    "print(len(thistuple))"
   ]
  },
  {
   "cell_type": "raw",
   "id": "2e55db0e-1453-41b7-b336-b1b3829cdc71",
   "metadata": {},
   "source": [
    "# Create Tuple With One Item\n",
    "  To create a tuple with only one item, you have to add a comma after the item, otherwise Python will not recognize it as a tuple."
   ]
  },
  {
   "cell_type": "code",
   "execution_count": 5,
   "id": "432a1ec2-bb9f-46dc-92f0-09b7e4d211a4",
   "metadata": {},
   "outputs": [
    {
     "name": "stdout",
     "output_type": "stream",
     "text": [
      "<class 'tuple'>\n",
      "<class 'str'>\n"
     ]
    }
   ],
   "source": [
    "#One item tuple, remember the comma:\n",
    "thistuple = (\"apple\",)\n",
    "print(type(thistuple))\n",
    "\n",
    "#NOT a tuple\n",
    "thistuple = (\"apple\")\n",
    "print(type(thistuple))"
   ]
  },
  {
   "cell_type": "raw",
   "id": "a8ed94e1-f1ce-459c-b137-619b95ff92bc",
   "metadata": {},
   "source": [
    "* Tuple Items - Data Types\n",
    " Tuple items can be of any data type"
   ]
  },
  {
   "cell_type": "code",
   "execution_count": 8,
   "id": "cfc3ba32-231f-452d-9712-c91f746e5897",
   "metadata": {},
   "outputs": [
    {
     "name": "stdout",
     "output_type": "stream",
     "text": [
      "('apple', 'banana', 'cherry')\n",
      "(1, 5, 7, 9, 3)\n",
      "(True, False, False)\n"
     ]
    }
   ],
   "source": [
    "# String, int and boolean data types:\n",
    "tuple1 = (\"apple\", \"banana\", \"cherry\")\n",
    "tuple2 = (1, 5, 7, 9, 3)\n",
    "tuple3 = (True, False, False)\n",
    "print(tuple1)\n",
    "print(tuple2)\n",
    "print(tuple3)"
   ]
  },
  {
   "cell_type": "code",
   "execution_count": 10,
   "id": "daad6cf3-49ab-4745-a3ed-0717c754646a",
   "metadata": {},
   "outputs": [
    {
     "name": "stdout",
     "output_type": "stream",
     "text": [
      "('abc', 34, True, 40, 'male')\n"
     ]
    }
   ],
   "source": [
    "# A tuple with strings, integers and boolean values:\n",
    "tuple1 = (\"abc\", 34, True, 40, \"male\")\n",
    "print(tuple1)"
   ]
  },
  {
   "cell_type": "raw",
   "id": "4160534e-271e-4013-9dab-a0bde00f2ebf",
   "metadata": {},
   "source": [
    "* type()\n",
    " From Python's perspective, tuples are defined as objects with the data type 'tuple':\n",
    " <class 'tuple'>"
   ]
  },
  {
   "cell_type": "code",
   "execution_count": 11,
   "id": "7573a733-6e52-47cf-8cd4-7acd3d9b1848",
   "metadata": {},
   "outputs": [
    {
     "name": "stdout",
     "output_type": "stream",
     "text": [
      "<class 'tuple'>\n"
     ]
    }
   ],
   "source": [
    "mytuple = (\"apple\", \"banana\", \"cherry\")\n",
    "print(type(mytuple))"
   ]
  },
  {
   "cell_type": "raw",
   "id": "1f3c47b5-9382-46f2-a942-7b3919c59b68",
   "metadata": {},
   "source": [
    "*The tuple() Constructor\n",
    " It is also possible to use the tuple() constructor to make a tuple."
   ]
  },
  {
   "cell_type": "code",
   "execution_count": 12,
   "id": "f7f4d15f-743c-4a42-9994-b9724aa21224",
   "metadata": {},
   "outputs": [
    {
     "name": "stdout",
     "output_type": "stream",
     "text": [
      "('apple', 'banana', 'cherry')\n"
     ]
    }
   ],
   "source": [
    "# Using the tuple() method to make a tuple:\n",
    "thistuple = tuple((\"apple\", \"banana\", \"cherry\")) # note the double round-brackets\n",
    "print(thistuple)"
   ]
  },
  {
   "cell_type": "markdown",
   "id": "46d87ac7-37f4-45a5-b06c-e9fcf1892105",
   "metadata": {},
   "source": [
    "# List of method"
   ]
  },
  {
   "cell_type": "code",
   "execution_count": null,
   "id": "c66dc2f8-4123-4137-9715-3d7fed98f180",
   "metadata": {},
   "outputs": [],
   "source": [
    "  Method\t               Description\n",
    "  count()\t           Returns the number of times a specified value occurs in a tuple\n",
    "  index()\t           Searches the tuple for a specified value and returns the position of where it was found"
   ]
  },
  {
   "cell_type": "code",
   "execution_count": 4,
   "id": "5bfc4331-8e7d-4b86-9358-0949076f96eb",
   "metadata": {},
   "outputs": [
    {
     "name": "stdout",
     "output_type": "stream",
     "text": [
      "2\n"
     ]
    }
   ],
   "source": [
    "# count() Method\n",
    "thistuple = (1, 3, 7, 8, 7, 5, 4, 6, 8, 5)\n",
    "x = thistuple.count(5)\n",
    "print(x)"
   ]
  },
  {
   "cell_type": "code",
   "execution_count": 6,
   "id": "f43fa6a1-0baa-4237-b4c4-0a62e198810e",
   "metadata": {},
   "outputs": [
    {
     "name": "stdout",
     "output_type": "stream",
     "text": [
      "3\n"
     ]
    }
   ],
   "source": [
    "# index() Method\n",
    "thistuple = (1, 3, 7, 8, 7, 5, 4, 6, 8, 5)\n",
    "x = thistuple.index(8)\n",
    "print(x)"
   ]
  },
  {
   "cell_type": "code",
   "execution_count": null,
   "id": "05757482-0e65-4050-a871-67b48095d61f",
   "metadata": {},
   "outputs": [],
   "source": []
  }
 ],
 "metadata": {
  "kernelspec": {
   "display_name": "Python 3 (ipykernel)",
   "language": "python",
   "name": "python3"
  },
  "language_info": {
   "codemirror_mode": {
    "name": "ipython",
    "version": 3
   },
   "file_extension": ".py",
   "mimetype": "text/x-python",
   "name": "python",
   "nbconvert_exporter": "python",
   "pygments_lexer": "ipython3",
   "version": "3.11.7"
  }
 },
 "nbformat": 4,
 "nbformat_minor": 5
}
