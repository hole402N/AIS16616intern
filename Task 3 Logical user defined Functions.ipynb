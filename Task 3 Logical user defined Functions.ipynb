{
 "cells": [
  {
   "cell_type": "markdown",
   "id": "d1e96076",
   "metadata": {},
   "source": [
    "# Logical user-defined functions \n",
    "In Python are functions that perform logical operations and return boolean values (True or False). These functions are used to encapsulate conditions, checks, or validations that can be reused throughout a program. They are defined using the def keyword and typically include logical expressions and conditions within their bodies."
   ]
  },
  {
   "cell_type": "markdown",
   "id": "88aeb5e2",
   "metadata": {},
   "source": [
    "Example 1: \n",
    "\n",
    "Checking Even Numbers\n"
   ]
  },
  {
   "cell_type": "code",
   "execution_count": 4,
   "id": "46ce22cc",
   "metadata": {},
   "outputs": [
    {
     "name": "stdout",
     "output_type": "stream",
     "text": [
      "even\n",
      "odd\n"
     ]
    }
   ],
   "source": [
    "def evenOdd( x ): \n",
    "    if (x % 2 == 0): \n",
    "        print(\"even\")\n",
    "    else: \n",
    "        print(\"odd\")\n",
    " \n",
    "evenOdd(2) \n",
    "evenOdd(3)\n"
   ]
  },
  {
   "cell_type": "markdown",
   "id": "8286f314",
   "metadata": {},
   "source": [
    "Example:2\n",
    "\n",
    "Computes Kelvin from Fahrenheit!  Kelvin is converted to Fahrenheit by:\n",
    "\n",
    "K=(F−32.0)×59 + 273.15"
   ]
  },
  {
   "cell_type": "code",
   "execution_count": 10,
   "id": "a88678cd",
   "metadata": {},
   "outputs": [
    {
     "data": {
      "text/plain": [
       "227.59444444444443"
      ]
     },
     "execution_count": 10,
     "metadata": {},
     "output_type": "execute_result"
    }
   ],
   "source": [
    "def fahrenheit_to_kelvin(F):\n",
    "    \n",
    "    K = (F - 32.0) * 5/9 + 273.15\n",
    "    \n",
    "    return K\n",
    "fahrenheit_to_kelvin(-50)"
   ]
  },
  {
   "cell_type": "markdown",
   "id": "de7dd21c",
   "metadata": {},
   "source": [
    "Example 3\n",
    "\n",
    "computes Celsius from Kelvin! Celsuis is converted to Kelvin by:\n",
    "\n",
    "C = K − 273.15"
   ]
  },
  {
   "cell_type": "code",
   "execution_count": 13,
   "id": "eed922b4",
   "metadata": {},
   "outputs": [
    {
     "data": {
      "text/plain": [
       "-273.15"
      ]
     },
     "execution_count": 13,
     "metadata": {},
     "output_type": "execute_result"
    }
   ],
   "source": [
    "def kelvin_to_celsius(K):\n",
    "    \n",
    "    C = K - 273.15\n",
    "    \n",
    "    return C\n",
    "\n",
    "kelvin_to_celsius(0)"
   ]
  },
  {
   "cell_type": "markdown",
   "id": "6a7df617",
   "metadata": {},
   "source": [
    "Example 4\n",
    "\n",
    "Computes Celsius form Fahrenheit!  \n",
    "\n",
    "C = (F - 32) × 5/9"
   ]
  },
  {
   "cell_type": "code",
   "execution_count": 3,
   "id": "f4cc6e0f",
   "metadata": {},
   "outputs": [
    {
     "data": {
      "text/plain": [
       "232.7777777777778"
      ]
     },
     "execution_count": 3,
     "metadata": {},
     "output_type": "execute_result"
    }
   ],
   "source": [
    "def fahrenheit_to_celsius(F):\n",
    "    \n",
    "    C = (F - 32)*(5/9)\n",
    "    \n",
    "    return C\n",
    "\n",
    "fahrenheit_to_celsius(451)"
   ]
  },
  {
   "cell_type": "markdown",
   "id": "fc3557a7",
   "metadata": {},
   "source": [
    "Example 5\n",
    "\n",
    "Checking if a Number is Prime"
   ]
  },
  {
   "cell_type": "code",
   "execution_count": 1,
   "id": "a7c05094",
   "metadata": {},
   "outputs": [
    {
     "name": "stdout",
     "output_type": "stream",
     "text": [
      "True\n",
      "False\n"
     ]
    }
   ],
   "source": [
    "def is_prime(number):\n",
    "\n",
    "    if number <= 1:\n",
    "        return False\n",
    "    for i in range(2, int(number ** 0.5) + 1):\n",
    "        if number % i == 0:\n",
    "            return False\n",
    "    return True\n",
    "\n",
    "\n",
    "print(is_prime(2))  \n",
    "print(is_prime(4))  \n"
   ]
  },
  {
   "cell_type": "markdown",
   "id": "dd020b44",
   "metadata": {},
   "source": [
    "Example 6\n",
    "\n",
    "To make list of Students (First Name, Last Name)"
   ]
  },
  {
   "cell_type": "code",
   "execution_count": 6,
   "id": "7bc3f8a0",
   "metadata": {},
   "outputs": [
    {
     "name": "stdout",
     "output_type": "stream",
     "text": [
      "Shreyash Giranje\n",
      "Shreyash Giranje\n"
     ]
    }
   ],
   "source": [
    "def student(firstname, lastname): \n",
    "    print(firstname, lastname) \n",
    "\n",
    "student(firstname ='Shreyash', lastname ='Giranje') \n",
    "student(lastname ='Giranje', firstname ='Shreyash') "
   ]
  },
  {
   "cell_type": "markdown",
   "id": "b7bef607",
   "metadata": {},
   "source": [
    " Example 7\n",
    "    \n",
    "Check if a year is a leap year\n",
    "\n",
    "A year is a leap year if it is divisible by 4.\n",
    "However, if the year is also divisible by 100, it is not a leap year unless it is also divisible by 400.\n"
   ]
  },
  {
   "cell_type": "code",
   "execution_count": 9,
   "id": "5c6a2f53",
   "metadata": {},
   "outputs": [
    {
     "name": "stdout",
     "output_type": "stream",
     "text": [
      "True\n",
      "False\n"
     ]
    }
   ],
   "source": [
    "def leap_year(year):\n",
    "    return (year % 4 == 0 and year % 100 != 0) or (year % 400 == 0)\n",
    "\n",
    "print(leap_year(2020))  \n",
    "print(leap_year(1900))  \n"
   ]
  },
  {
   "cell_type": "markdown",
   "id": "2e1fc10b",
   "metadata": {},
   "source": [
    "Example 8\n",
    "\n",
    "Logical AND operation between two booleans\n"
   ]
  },
  {
   "cell_type": "code",
   "execution_count": 10,
   "id": "75d10c55",
   "metadata": {},
   "outputs": [
    {
     "name": "stdout",
     "output_type": "stream",
     "text": [
      "False\n",
      "True\n"
     ]
    }
   ],
   "source": [
    "def logical_and(a, b):\n",
    "    return a and b\n",
    "\n",
    "print(logical_and(True, False))  \n",
    "print(logical_and(True, True))   \n"
   ]
  },
  {
   "cell_type": "markdown",
   "id": "d462219e",
   "metadata": {},
   "source": [
    "Example 9\n",
    "\n",
    "Logical OR operation between two booleans\n"
   ]
  },
  {
   "cell_type": "code",
   "execution_count": 11,
   "id": "9d759d32",
   "metadata": {},
   "outputs": [
    {
     "name": "stdout",
     "output_type": "stream",
     "text": [
      "True\n",
      "False\n"
     ]
    }
   ],
   "source": [
    "def logical_or(a, b):\n",
    "    return a or b\n",
    "\n",
    "print(logical_or(True, False))  \n",
    "print(logical_or(False, False))  \n"
   ]
  },
  {
   "cell_type": "markdown",
   "id": "abb24076",
   "metadata": {},
   "source": [
    "Example 10\n",
    "\n",
    "Check if a string contains only digits"
   ]
  },
  {
   "cell_type": "code",
   "execution_count": 12,
   "id": "45ecd2ae",
   "metadata": {},
   "outputs": [
    {
     "name": "stdout",
     "output_type": "stream",
     "text": [
      "True\n",
      "False\n"
     ]
    }
   ],
   "source": [
    "def is_digit_only(s):\n",
    "    return s.isdigit()\n",
    "\n",
    "print(is_digit_only(\"12345\"))   \n",
    "print(is_digit_only(\"123a5\"))  \n"
   ]
  },
  {
   "cell_type": "code",
   "execution_count": null,
   "id": "11080907",
   "metadata": {},
   "outputs": [],
   "source": []
  }
 ],
 "metadata": {
  "kernelspec": {
   "display_name": "Python 3 (ipykernel)",
   "language": "python",
   "name": "python3"
  },
  "language_info": {
   "codemirror_mode": {
    "name": "ipython",
    "version": 3
   },
   "file_extension": ".py",
   "mimetype": "text/x-python",
   "name": "python",
   "nbconvert_exporter": "python",
   "pygments_lexer": "ipython3",
   "version": "3.10.9"
  }
 },
 "nbformat": 4,
 "nbformat_minor": 5
}
